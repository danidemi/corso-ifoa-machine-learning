{
 "cells": [
  {
   "cell_type": "code",
   "execution_count": 10,
   "metadata": {},
   "outputs": [],
   "source": [
    "import pandas as pd\n"
   ]
  },
  {
   "cell_type": "code",
   "execution_count": 4,
   "metadata": {},
   "outputs": [
    {
     "data": {
      "text/html": [
       "<div>\n",
       "<style scoped>\n",
       "    .dataframe tbody tr th:only-of-type {\n",
       "        vertical-align: middle;\n",
       "    }\n",
       "\n",
       "    .dataframe tbody tr th {\n",
       "        vertical-align: top;\n",
       "    }\n",
       "\n",
       "    .dataframe thead th {\n",
       "        text-align: right;\n",
       "    }\n",
       "</style>\n",
       "<table border=\"1\" class=\"dataframe\">\n",
       "  <thead>\n",
       "    <tr style=\"text-align: right;\">\n",
       "      <th></th>\n",
       "      <th>SPECIE</th>\n",
       "      <th>INFESTANTE</th>\n",
       "      <th>DIAMETRO FUSTO CM</th>\n",
       "      <th>ALTEZZA MASSIMA CM</th>\n",
       "    </tr>\n",
       "  </thead>\n",
       "  <tbody>\n",
       "    <tr>\n",
       "      <th>0</th>\n",
       "      <td>AGROPYRON</td>\n",
       "      <td>False</td>\n",
       "      <td>4.5</td>\n",
       "      <td>55.8</td>\n",
       "    </tr>\n",
       "    <tr>\n",
       "      <th>1</th>\n",
       "      <td>AILANTHUS</td>\n",
       "      <td>False</td>\n",
       "      <td>5.2</td>\n",
       "      <td>60.9</td>\n",
       "    </tr>\n",
       "    <tr>\n",
       "      <th>2</th>\n",
       "      <td>ALLIARIA</td>\n",
       "      <td>True</td>\n",
       "      <td>2.1</td>\n",
       "      <td>44.2</td>\n",
       "    </tr>\n",
       "    <tr>\n",
       "      <th>3</th>\n",
       "      <td>ALOPECURUS</td>\n",
       "      <td>True</td>\n",
       "      <td>1.0</td>\n",
       "      <td>66.0</td>\n",
       "    </tr>\n",
       "    <tr>\n",
       "      <th>4</th>\n",
       "      <td>ALTERNANTHERA</td>\n",
       "      <td>False</td>\n",
       "      <td>7.6</td>\n",
       "      <td>23.5</td>\n",
       "    </tr>\n",
       "    <tr>\n",
       "      <th>5</th>\n",
       "      <td>ANTHEMIS</td>\n",
       "      <td>False</td>\n",
       "      <td>8.0</td>\n",
       "      <td>12.0</td>\n",
       "    </tr>\n",
       "  </tbody>\n",
       "</table>\n",
       "</div>"
      ],
      "text/plain": [
       "          SPECIE  INFESTANTE  DIAMETRO FUSTO CM  ALTEZZA MASSIMA CM\n",
       "0      AGROPYRON       False                4.5                55.8\n",
       "1      AILANTHUS       False                5.2                60.9\n",
       "2       ALLIARIA        True                2.1                44.2\n",
       "3     ALOPECURUS        True                1.0                66.0\n",
       "4  ALTERNANTHERA       False                7.6                23.5\n",
       "5       ANTHEMIS       False                8.0                12.0"
      ]
     },
     "execution_count": 4,
     "metadata": {},
     "output_type": "execute_result"
    }
   ],
   "source": [
    "Data=pd.DataFrame({\n",
    "    \n",
    "    \"SPECIE\":[\"AGROPYRON\", \"AILANTHUS\", \"ALLIARIA\", \"ALOPECURUS\", \"ALTERNANTHERA\", \"ANTHEMIS\"],\n",
    "    \"INFESTANTE\":[False, False, True, True, False, False],\n",
    "    \"DIAMETRO FUSTO CM\":[4.5,5.2,2.1,1.0,7.6,8.0],\n",
    "    \"ALTEZZA MASSIMA CM\":[55.8, 60.9, 44.2, 66.0, 23.5, 12.0]\n",
    "    \n",
    "})\n",
    "\n",
    "Data"
   ]
  },
  {
   "cell_type": "code",
   "execution_count": 22,
   "metadata": {},
   "outputs": [
    {
     "data": {
      "text/html": [
       "<div>\n",
       "<style scoped>\n",
       "    .dataframe tbody tr th:only-of-type {\n",
       "        vertical-align: middle;\n",
       "    }\n",
       "\n",
       "    .dataframe tbody tr th {\n",
       "        vertical-align: top;\n",
       "    }\n",
       "\n",
       "    .dataframe thead th {\n",
       "        text-align: right;\n",
       "    }\n",
       "</style>\n",
       "<table border=\"1\" class=\"dataframe\">\n",
       "  <thead>\n",
       "    <tr style=\"text-align: right;\">\n",
       "      <th></th>\n",
       "      <th>SPECIE</th>\n",
       "      <th>INFESTANTE</th>\n",
       "      <th>DIAMETRO FUSTO CM</th>\n",
       "      <th>ALTEZZA MASSIMA CM</th>\n",
       "    </tr>\n",
       "  </thead>\n",
       "  <tbody>\n",
       "    <tr>\n",
       "      <th>0</th>\n",
       "      <td>AGROPYRON</td>\n",
       "      <td>False</td>\n",
       "      <td>4.5</td>\n",
       "      <td>55.8</td>\n",
       "    </tr>\n",
       "    <tr>\n",
       "      <th>1</th>\n",
       "      <td>AILANTHUS</td>\n",
       "      <td>False</td>\n",
       "      <td>5.2</td>\n",
       "      <td>60.9</td>\n",
       "    </tr>\n",
       "    <tr>\n",
       "      <th>2</th>\n",
       "      <td>ALLIARIA</td>\n",
       "      <td>True</td>\n",
       "      <td>2.1</td>\n",
       "      <td>44.2</td>\n",
       "    </tr>\n",
       "    <tr>\n",
       "      <th>3</th>\n",
       "      <td>ALOPECURUS</td>\n",
       "      <td>True</td>\n",
       "      <td>1.0</td>\n",
       "      <td>66.0</td>\n",
       "    </tr>\n",
       "    <tr>\n",
       "      <th>4</th>\n",
       "      <td>ALTERNANTHERA</td>\n",
       "      <td>False</td>\n",
       "      <td>7.6</td>\n",
       "      <td>23.5</td>\n",
       "    </tr>\n",
       "    <tr>\n",
       "      <th>5</th>\n",
       "      <td>ANTHEMIS</td>\n",
       "      <td>False</td>\n",
       "      <td>8.0</td>\n",
       "      <td>12.0</td>\n",
       "    </tr>\n",
       "  </tbody>\n",
       "</table>\n",
       "</div>"
      ],
      "text/plain": [
       "          SPECIE  INFESTANTE  DIAMETRO FUSTO CM  ALTEZZA MASSIMA CM\n",
       "0      AGROPYRON       False                4.5                55.8\n",
       "1      AILANTHUS       False                5.2                60.9\n",
       "2       ALLIARIA        True                2.1                44.2\n",
       "3     ALOPECURUS        True                1.0                66.0\n",
       "4  ALTERNANTHERA       False                7.6                23.5\n",
       "5       ANTHEMIS       False                8.0                12.0"
      ]
     },
     "execution_count": 22,
     "metadata": {},
     "output_type": "execute_result"
    }
   ],
   "source": [
    "Data=pd.DataFrame(([['AGROPYRON', False, 4.5, 55.8], ['AILANTHUS', False, 5.2, 60.9], ['ALLIARIA', True,2.1,44.2], ['ALOPECURUS',True,1.0,66.0],['ALTERNANTHERA', False, 7.6, 23.5], ['ANTHEMIS',False, 8.0, 12.0]]),\n",
    "\n",
    "columns=['SPECIE','INFESTANTE','DIAMETRO FUSTO CM','ALTEZZA MASSIMA CM'])\n",
    "\n",
    "Data\n",
    "\n",
    "                  \n",
    "                  "
   ]
  },
  {
   "cell_type": "code",
   "execution_count": 24,
   "metadata": {},
   "outputs": [
    {
     "data": {
      "text/plain": [
       "<bound method NDFrame.describe of           SPECIE  INFESTANTE  DIAMETRO FUSTO CM  ALTEZZA MASSIMA CM\n",
       "0      AGROPYRON       False                4.5                55.8\n",
       "1      AILANTHUS       False                5.2                60.9\n",
       "2       ALLIARIA        True                2.1                44.2\n",
       "3     ALOPECURUS        True                1.0                66.0\n",
       "4  ALTERNANTHERA       False                7.6                23.5\n",
       "5       ANTHEMIS       False                8.0                12.0>"
      ]
     },
     "execution_count": 24,
     "metadata": {},
     "output_type": "execute_result"
    }
   ],
   "source": [
    "Data.describe"
   ]
  },
  {
   "cell_type": "code",
   "execution_count": 25,
   "metadata": {},
   "outputs": [
    {
     "data": {
      "text/plain": [
       "(6, 4)"
      ]
     },
     "execution_count": 25,
     "metadata": {},
     "output_type": "execute_result"
    }
   ],
   "source": [
    "Data.shape"
   ]
  },
  {
   "cell_type": "code",
   "execution_count": 26,
   "metadata": {},
   "outputs": [
    {
     "data": {
      "text/plain": [
       "24"
      ]
     },
     "execution_count": 26,
     "metadata": {},
     "output_type": "execute_result"
    }
   ],
   "source": [
    "Data.size"
   ]
  },
  {
   "cell_type": "code",
   "execution_count": 28,
   "metadata": {},
   "outputs": [
    {
     "data": {
      "text/plain": [
       "0        AGROPYRON\n",
       "1        AILANTHUS\n",
       "2         ALLIARIA\n",
       "3       ALOPECURUS\n",
       "4    ALTERNANTHERA\n",
       "5         ANTHEMIS\n",
       "Name: SPECIE, dtype: object"
      ]
     },
     "execution_count": 28,
     "metadata": {},
     "output_type": "execute_result"
    }
   ],
   "source": [
    "specie=Data['SPECIE']\n",
    "specie"
   ]
  },
  {
   "cell_type": "code",
   "execution_count": null,
   "metadata": {},
   "outputs": [],
   "source": []
  }
 ],
 "metadata": {
  "kernelspec": {
   "display_name": "Python 3",
   "language": "python",
   "name": "python3"
  },
  "language_info": {
   "codemirror_mode": {
    "name": "ipython",
    "version": 3
   },
   "file_extension": ".py",
   "mimetype": "text/x-python",
   "name": "python",
   "nbconvert_exporter": "python",
   "pygments_lexer": "ipython3",
   "version": "3.7.6"
  }
 },
 "nbformat": 4,
 "nbformat_minor": 4
}
