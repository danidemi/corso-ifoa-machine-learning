{
 "cells": [
  {
   "cell_type": "code",
   "execution_count": 1,
   "metadata": {},
   "outputs": [],
   "source": [
    "import pandas as pd"
   ]
  },
  {
   "cell_type": "code",
   "execution_count": 10,
   "metadata": {},
   "outputs": [
    {
     "data": {
      "text/html": [
       "<div>\n",
       "<style scoped>\n",
       "    .dataframe tbody tr th:only-of-type {\n",
       "        vertical-align: middle;\n",
       "    }\n",
       "\n",
       "    .dataframe tbody tr th {\n",
       "        vertical-align: top;\n",
       "    }\n",
       "\n",
       "    .dataframe thead th {\n",
       "        text-align: right;\n",
       "    }\n",
       "</style>\n",
       "<table border=\"1\" class=\"dataframe\">\n",
       "  <thead>\n",
       "    <tr style=\"text-align: right;\">\n",
       "      <th></th>\n",
       "      <th>Nome</th>\n",
       "      <th>Squadra</th>\n",
       "      <th>Media_voto</th>\n",
       "      <th>Fanta_media</th>\n",
       "      <th>Gol_segnati</th>\n",
       "    </tr>\n",
       "  </thead>\n",
       "  <tbody>\n",
       "    <tr>\n",
       "      <th>0</th>\n",
       "      <td>Immobile</td>\n",
       "      <td>Lazio</td>\n",
       "      <td>6.57</td>\n",
       "      <td>9.49</td>\n",
       "      <td>36</td>\n",
       "    </tr>\n",
       "    <tr>\n",
       "      <th>1</th>\n",
       "      <td>C.Ronaldo</td>\n",
       "      <td>Juventus</td>\n",
       "      <td>6.56</td>\n",
       "      <td>9.33</td>\n",
       "      <td>31</td>\n",
       "    </tr>\n",
       "    <tr>\n",
       "      <th>2</th>\n",
       "      <td>Lukaku</td>\n",
       "      <td>Inter</td>\n",
       "      <td>6.42</td>\n",
       "      <td>8.33</td>\n",
       "      <td>23</td>\n",
       "    </tr>\n",
       "    <tr>\n",
       "      <th>3</th>\n",
       "      <td>Caputo</td>\n",
       "      <td>Sassuolo</td>\n",
       "      <td>6.32</td>\n",
       "      <td>8.31</td>\n",
       "      <td>21</td>\n",
       "    </tr>\n",
       "  </tbody>\n",
       "</table>\n",
       "</div>"
      ],
      "text/plain": [
       "        Nome   Squadra  Media_voto  Fanta_media  Gol_segnati\n",
       "0   Immobile     Lazio        6.57         9.49           36\n",
       "1  C.Ronaldo  Juventus        6.56         9.33           31\n",
       "2     Lukaku     Inter        6.42         8.33           23\n",
       "3     Caputo  Sassuolo        6.32         8.31           21"
      ]
     },
     "execution_count": 10,
     "metadata": {},
     "output_type": "execute_result"
    }
   ],
   "source": [
    "data = pd.DataFrame ({\n",
    "    \"Nome\":[\"Immobile\",\"C.Ronaldo\",\"Lukaku\",\"Caputo\"],\n",
    "    \n",
    "    \"Squadra\": [\"Lazio\",\"Juventus\",\"Inter\",\"Sassuolo\"],\n",
    "    \n",
    "    \"Media_voto\" :[6.57, 6.56, 6.42, 6.32],\n",
    "    \n",
    "    \"Fanta_media\":[9.49, 9.33, 8.33, 8.31],\n",
    "    \n",
    "    \"Gol_segnati\": [36, 31, 23, 21],\n",
    "    })\n",
    "data"
   ]
  },
  {
   "cell_type": "code",
   "execution_count": 14,
   "metadata": {},
   "outputs": [
    {
     "data": {
      "text/plain": [
       "0    36\n",
       "1    31\n",
       "2    23\n",
       "3    21\n",
       "Name: Gol_segnati, dtype: int64"
      ]
     },
     "execution_count": 14,
     "metadata": {},
     "output_type": "execute_result"
    }
   ],
   "source": [
    "data[\"Gol_segnati\"]"
   ]
  },
  {
   "cell_type": "code",
   "execution_count": 16,
   "metadata": {},
   "outputs": [
    {
     "data": {
      "text/html": [
       "<div>\n",
       "<style scoped>\n",
       "    .dataframe tbody tr th:only-of-type {\n",
       "        vertical-align: middle;\n",
       "    }\n",
       "\n",
       "    .dataframe tbody tr th {\n",
       "        vertical-align: top;\n",
       "    }\n",
       "\n",
       "    .dataframe thead th {\n",
       "        text-align: right;\n",
       "    }\n",
       "</style>\n",
       "<table border=\"1\" class=\"dataframe\">\n",
       "  <thead>\n",
       "    <tr style=\"text-align: right;\">\n",
       "      <th></th>\n",
       "      <th>Media_voto</th>\n",
       "      <th>Fanta_media</th>\n",
       "      <th>Gol_segnati</th>\n",
       "    </tr>\n",
       "  </thead>\n",
       "  <tbody>\n",
       "    <tr>\n",
       "      <th>count</th>\n",
       "      <td>4.000000</td>\n",
       "      <td>4.000000</td>\n",
       "      <td>4.000000</td>\n",
       "    </tr>\n",
       "    <tr>\n",
       "      <th>mean</th>\n",
       "      <td>6.467500</td>\n",
       "      <td>8.865000</td>\n",
       "      <td>27.750000</td>\n",
       "    </tr>\n",
       "    <tr>\n",
       "      <th>std</th>\n",
       "      <td>0.119826</td>\n",
       "      <td>0.632745</td>\n",
       "      <td>6.994045</td>\n",
       "    </tr>\n",
       "    <tr>\n",
       "      <th>min</th>\n",
       "      <td>6.320000</td>\n",
       "      <td>8.310000</td>\n",
       "      <td>21.000000</td>\n",
       "    </tr>\n",
       "    <tr>\n",
       "      <th>25%</th>\n",
       "      <td>6.395000</td>\n",
       "      <td>8.325000</td>\n",
       "      <td>22.500000</td>\n",
       "    </tr>\n",
       "    <tr>\n",
       "      <th>50%</th>\n",
       "      <td>6.490000</td>\n",
       "      <td>8.830000</td>\n",
       "      <td>27.000000</td>\n",
       "    </tr>\n",
       "    <tr>\n",
       "      <th>75%</th>\n",
       "      <td>6.562500</td>\n",
       "      <td>9.370000</td>\n",
       "      <td>32.250000</td>\n",
       "    </tr>\n",
       "    <tr>\n",
       "      <th>max</th>\n",
       "      <td>6.570000</td>\n",
       "      <td>9.490000</td>\n",
       "      <td>36.000000</td>\n",
       "    </tr>\n",
       "  </tbody>\n",
       "</table>\n",
       "</div>"
      ],
      "text/plain": [
       "       Media_voto  Fanta_media  Gol_segnati\n",
       "count    4.000000     4.000000     4.000000\n",
       "mean     6.467500     8.865000    27.750000\n",
       "std      0.119826     0.632745     6.994045\n",
       "min      6.320000     8.310000    21.000000\n",
       "25%      6.395000     8.325000    22.500000\n",
       "50%      6.490000     8.830000    27.000000\n",
       "75%      6.562500     9.370000    32.250000\n",
       "max      6.570000     9.490000    36.000000"
      ]
     },
     "execution_count": 16,
     "metadata": {},
     "output_type": "execute_result"
    }
   ],
   "source": [
    "data.describe()"
   ]
  },
  {
   "cell_type": "code",
   "execution_count": null,
   "metadata": {},
   "outputs": [],
   "source": []
  }
 ],
 "metadata": {
  "kernelspec": {
   "display_name": "Python 3",
   "language": "python",
   "name": "python3"
  },
  "language_info": {
   "codemirror_mode": {
    "name": "ipython",
    "version": 3
   },
   "file_extension": ".py",
   "mimetype": "text/x-python",
   "name": "python",
   "nbconvert_exporter": "python",
   "pygments_lexer": "ipython3",
   "version": "3.8.3"
  }
 },
 "nbformat": 4,
 "nbformat_minor": 4
}
