{
 "cells": [
  {
   "cell_type": "code",
   "execution_count": 1,
   "metadata": {},
   "outputs": [],
   "source": [
    "import pandas as pd"
   ]
  },
  {
   "cell_type": "code",
   "execution_count": 2,
   "metadata": {},
   "outputs": [],
   "source": [
    "top_albums = pd.read_csv(\"C:/Users/Amministratore/corso-ifoa-machine-learning/FedericoLubner/albumlistfix.csv\")"
   ]
  },
  {
   "cell_type": "code",
   "execution_count": 3,
   "metadata": {},
   "outputs": [
    {
     "data": {
      "text/html": [
       "<div>\n",
       "<style scoped>\n",
       "    .dataframe tbody tr th:only-of-type {\n",
       "        vertical-align: middle;\n",
       "    }\n",
       "\n",
       "    .dataframe tbody tr th {\n",
       "        vertical-align: top;\n",
       "    }\n",
       "\n",
       "    .dataframe thead th {\n",
       "        text-align: right;\n",
       "    }\n",
       "</style>\n",
       "<table border=\"1\" class=\"dataframe\">\n",
       "  <thead>\n",
       "    <tr style=\"text-align: right;\">\n",
       "      <th></th>\n",
       "      <th>Number</th>\n",
       "      <th>Year</th>\n",
       "      <th>Album</th>\n",
       "      <th>Artist</th>\n",
       "      <th>Genre</th>\n",
       "      <th>Subgenre</th>\n",
       "    </tr>\n",
       "  </thead>\n",
       "  <tbody>\n",
       "    <tr>\n",
       "      <th>0</th>\n",
       "      <td>1</td>\n",
       "      <td>1967</td>\n",
       "      <td>Sgt. Pepper's Lonely Hearts Club Band</td>\n",
       "      <td>The Beatles</td>\n",
       "      <td>Rock</td>\n",
       "      <td>Rock &amp; Roll, Psychedelic Rock</td>\n",
       "    </tr>\n",
       "    <tr>\n",
       "      <th>1</th>\n",
       "      <td>2</td>\n",
       "      <td>1966</td>\n",
       "      <td>Pet Sounds</td>\n",
       "      <td>The Beach Boys</td>\n",
       "      <td>Rock</td>\n",
       "      <td>Pop Rock, Psychedelic Rock</td>\n",
       "    </tr>\n",
       "    <tr>\n",
       "      <th>2</th>\n",
       "      <td>3</td>\n",
       "      <td>1966</td>\n",
       "      <td>Revolver</td>\n",
       "      <td>The Beatles</td>\n",
       "      <td>Rock</td>\n",
       "      <td>Psychedelic Rock, Pop Rock</td>\n",
       "    </tr>\n",
       "    <tr>\n",
       "      <th>3</th>\n",
       "      <td>4</td>\n",
       "      <td>1965</td>\n",
       "      <td>Highway 61 Revisited</td>\n",
       "      <td>Bob Dylan</td>\n",
       "      <td>Rock</td>\n",
       "      <td>Folk Rock, Blues Rock</td>\n",
       "    </tr>\n",
       "    <tr>\n",
       "      <th>4</th>\n",
       "      <td>5</td>\n",
       "      <td>1965</td>\n",
       "      <td>Rubber Soul</td>\n",
       "      <td>The Beatles</td>\n",
       "      <td>Rock, Pop</td>\n",
       "      <td>Pop Rock</td>\n",
       "    </tr>\n",
       "    <tr>\n",
       "      <th>...</th>\n",
       "      <td>...</td>\n",
       "      <td>...</td>\n",
       "      <td>...</td>\n",
       "      <td>...</td>\n",
       "      <td>...</td>\n",
       "      <td>...</td>\n",
       "    </tr>\n",
       "    <tr>\n",
       "      <th>495</th>\n",
       "      <td>496</td>\n",
       "      <td>1969</td>\n",
       "      <td>Boz Scaggs</td>\n",
       "      <td>Boz Scaggs</td>\n",
       "      <td>Rock</td>\n",
       "      <td>Pop Rock</td>\n",
       "    </tr>\n",
       "    <tr>\n",
       "      <th>496</th>\n",
       "      <td>497</td>\n",
       "      <td>2001</td>\n",
       "      <td>White Blood Cells</td>\n",
       "      <td>The White Stripes</td>\n",
       "      <td>Rock</td>\n",
       "      <td>Indie Rock, Alternative Rock, Blues Rock, Gara...</td>\n",
       "    </tr>\n",
       "    <tr>\n",
       "      <th>497</th>\n",
       "      <td>498</td>\n",
       "      <td>1989</td>\n",
       "      <td>The Stone Roses</td>\n",
       "      <td>The Stone Roses</td>\n",
       "      <td>Rock</td>\n",
       "      <td>Indie Rock</td>\n",
       "    </tr>\n",
       "    <tr>\n",
       "      <th>498</th>\n",
       "      <td>499</td>\n",
       "      <td>1971</td>\n",
       "      <td>Live in Cook County Jail</td>\n",
       "      <td>B.B. King</td>\n",
       "      <td>Blues</td>\n",
       "      <td>Electric Blues</td>\n",
       "    </tr>\n",
       "    <tr>\n",
       "      <th>499</th>\n",
       "      <td>500</td>\n",
       "      <td>1998</td>\n",
       "      <td>Aquemini</td>\n",
       "      <td>OutKast</td>\n",
       "      <td>Hip Hop</td>\n",
       "      <td>Reggae, Gangsta, Soul, Conscious</td>\n",
       "    </tr>\n",
       "  </tbody>\n",
       "</table>\n",
       "<p>500 rows × 6 columns</p>\n",
       "</div>"
      ],
      "text/plain": [
       "     Number  Year                                  Album             Artist  \\\n",
       "0         1  1967  Sgt. Pepper's Lonely Hearts Club Band        The Beatles   \n",
       "1         2  1966                             Pet Sounds     The Beach Boys   \n",
       "2         3  1966                               Revolver        The Beatles   \n",
       "3         4  1965                   Highway 61 Revisited          Bob Dylan   \n",
       "4         5  1965                            Rubber Soul        The Beatles   \n",
       "..      ...   ...                                    ...                ...   \n",
       "495     496  1969                             Boz Scaggs         Boz Scaggs   \n",
       "496     497  2001                      White Blood Cells  The White Stripes   \n",
       "497     498  1989                        The Stone Roses    The Stone Roses   \n",
       "498     499  1971               Live in Cook County Jail          B.B. King   \n",
       "499     500  1998                               Aquemini            OutKast   \n",
       "\n",
       "         Genre                                           Subgenre  \n",
       "0         Rock                      Rock & Roll, Psychedelic Rock  \n",
       "1         Rock                         Pop Rock, Psychedelic Rock  \n",
       "2         Rock                         Psychedelic Rock, Pop Rock  \n",
       "3         Rock                              Folk Rock, Blues Rock  \n",
       "4    Rock, Pop                                           Pop Rock  \n",
       "..         ...                                                ...  \n",
       "495       Rock                                           Pop Rock  \n",
       "496       Rock  Indie Rock, Alternative Rock, Blues Rock, Gara...  \n",
       "497       Rock                                         Indie Rock  \n",
       "498      Blues                                     Electric Blues  \n",
       "499    Hip Hop                   Reggae, Gangsta, Soul, Conscious  \n",
       "\n",
       "[500 rows x 6 columns]"
      ]
     },
     "execution_count": 3,
     "metadata": {},
     "output_type": "execute_result"
    }
   ],
   "source": [
    "top_albums\n"
   ]
  },
  {
   "cell_type": "code",
   "execution_count": 4,
   "metadata": {},
   "outputs": [
    {
     "name": "stdout",
     "output_type": "stream",
     "text": [
      "63\n"
     ]
    }
   ],
   "source": [
    "#Numero di generi nel dataset\n",
    "n_top_genre = (top_albums[\"Genre\"].unique().size)\n",
    "print (n_top_genre)\n"
   ]
  },
  {
   "cell_type": "code",
   "execution_count": 5,
   "metadata": {},
   "outputs": [
    {
     "data": {
      "text/plain": [
       "array(['Rock', 'Rock, Pop', 'Funk / Soul', 'Rock, Blues', 'Jazz',\n",
       "       'Jazz, Rock, Blues, Folk, World, & Country', 'Funk / Soul, Pop',\n",
       "       'Blues', 'Pop', 'Rock, Folk, World, & Country',\n",
       "       'Folk, World, & Country', 'Classical, Stage & Screen', 'Reggae',\n",
       "       'Hip Hop', 'Jazz, Funk / Soul', 'Rock, Funk / Soul, Pop',\n",
       "       'Electronic, Rock',\n",
       "       'Jazz, Rock, Funk / Soul, Folk, World, & Country',\n",
       "       'Jazz, Rock, Funk / Soul, Pop, Folk, World, & Country',\n",
       "       'Funk / Soul, Stage & Screen',\n",
       "       'Electronic, Rock, Funk / Soul, Stage & Screen',\n",
       "       'Rock, Funk / Soul', 'Rock, Reggae', 'Jazz, Pop',\n",
       "       'Funk / Soul, Folk, World, & Country', 'Latin, Funk / Soul',\n",
       "       'Funk / Soul, Blues',\n",
       "       'Reggae,�Pop,�Folk, World, & Country,�Stage & Screen',\n",
       "       'Electronic,�Stage & Screen', 'Jazz, Rock, Funk / Soul, Blues',\n",
       "       'Jazz, Rock', 'Rock, Latin, Funk / Soul', 'Electronic, Rock, Pop',\n",
       "       'Hip Hop, Rock, Funk / Soul', 'Electronic, Pop',\n",
       "       'Rock, Blues, Pop', 'Electronic, Rock, Funk / Soul, Pop',\n",
       "       'Rock, Funk / Soul, Folk, World, & Country', 'Rock,�Blues',\n",
       "       'Rock, Pop, Folk, World, & Country', 'Rock, Latin',\n",
       "       'Rock, Stage & Screen', 'Rock, Blues, Folk, World, & Country',\n",
       "       'Electronic', 'Electronic, Funk / Soul, Pop',\n",
       "       'Pop, Folk, World, & Country', 'Electronic, Hip Hop, Pop',\n",
       "       'Blues, Folk, World, & Country',\n",
       "       'Electronic, Hip Hop, Funk / Soul, Pop',\n",
       "       'Rock, Funk / Soul, Blues, Pop, Folk, World, & Country',\n",
       "       'Jazz, Pop, Folk, World, & Country', 'Jazz, Rock, Pop',\n",
       "       'Hip Hop, Funk / Soul', 'Hip Hop, Rock',\n",
       "       'Electronic, Hip Hop, Funk / Soul',\n",
       "       'Funk / Soul,�Folk, World, & Country',\n",
       "       'Electronic, Hip Hop, Reggae, Pop', 'Electronic, Reggae',\n",
       "       'Electronic, Funk / Soul', 'Rock, Funk / Soul, Blues', 'Rock,�Pop',\n",
       "       'Electronic, Rock, Funk / Soul, Blues, Pop', 'Rock, Reggae, Latin'],\n",
       "      dtype=object)"
      ]
     },
     "execution_count": 5,
     "metadata": {},
     "output_type": "execute_result"
    }
   ],
   "source": [
    "\n",
    "top_albums[\"Genre\"].unique()"
   ]
  },
  {
   "cell_type": "code",
   "execution_count": 11,
   "metadata": {},
   "outputs": [
    {
     "data": {
      "text/plain": [
       "Rock                                                   249\n",
       "Funk / Soul                                             38\n",
       "Hip Hop                                                 29\n",
       "Electronic, Rock                                        19\n",
       "Rock, Pop                                               18\n",
       "                                                      ... \n",
       "Hip Hop, Rock, Funk / Soul                               1\n",
       "Reggae,�Pop,�Folk, World, & Country,�Stage & Screen      1\n",
       "Jazz, Rock, Pop                                          1\n",
       "Pop, Folk, World, & Country                              1\n",
       "Rock, Latin, Funk / Soul                                 1\n",
       "Name: Genre, Length: 63, dtype: int64"
      ]
     },
     "execution_count": 11,
     "metadata": {},
     "output_type": "execute_result"
    }
   ],
   "source": [
    "#Numero di album per genere\n",
    "\n",
    "top_genres = top_albums [\"Genre\"]\n",
    "top_genres.value_counts()\n",
    "\n"
   ]
  },
  {
   "cell_type": "code",
   "execution_count": 12,
   "metadata": {},
   "outputs": [
    {
     "data": {
      "text/plain": [
       "Rock                                                   0.498\n",
       "Funk / Soul                                            0.076\n",
       "Hip Hop                                                0.058\n",
       "Electronic, Rock                                       0.038\n",
       "Rock, Pop                                              0.036\n",
       "                                                       ...  \n",
       "Hip Hop, Rock, Funk / Soul                             0.002\n",
       "Reggae,�Pop,�Folk, World, & Country,�Stage & Screen    0.002\n",
       "Jazz, Rock, Pop                                        0.002\n",
       "Pop, Folk, World, & Country                            0.002\n",
       "Rock, Latin, Funk / Soul                               0.002\n",
       "Name: Genre, Length: 63, dtype: float64"
      ]
     },
     "execution_count": 12,
     "metadata": {},
     "output_type": "execute_result"
    }
   ],
   "source": [
    "#Frequenza relativa del genere nel dataset\n",
    "\n",
    "top_genres.value_counts(normalize=True)"
   ]
  },
  {
   "cell_type": "code",
   "execution_count": 22,
   "metadata": {},
   "outputs": [
    {
     "name": "stdout",
     "output_type": "stream",
     "text": [
      "Rock\n",
      "249\n",
      "Rock, Pop\n",
      "38\n",
      "Funk / Soul\n",
      "29\n",
      "Rock, Blues\n",
      "19\n",
      "Jazz\n",
      "18\n",
      "Jazz, Rock, Blues, Folk, World, & Country\n",
      "16\n",
      "Funk / Soul, Pop\n",
      "13\n",
      "Blues\n",
      "9\n",
      "Pop\n",
      "8\n",
      "Rock, Folk, World, & Country\n",
      "7\n",
      "Folk, World, & Country\n",
      "7\n",
      "Classical, Stage & Screen\n",
      "6\n",
      "Reggae\n",
      "6\n",
      "Hip Hop\n",
      "5\n",
      "Jazz, Funk / Soul\n",
      "5\n",
      "Rock, Funk / Soul, Pop\n",
      "4\n",
      "Electronic, Rock\n",
      "3\n",
      "Jazz, Rock, Funk / Soul, Folk, World, & Country\n",
      "3\n",
      "Jazz, Rock, Funk / Soul, Pop, Folk, World, & Country\n",
      "3\n",
      "Funk / Soul, Stage & Screen\n",
      "3\n",
      "Electronic, Rock, Funk / Soul, Stage & Screen\n",
      "2\n",
      "Rock, Funk / Soul\n",
      "2\n",
      "Rock, Reggae\n",
      "2\n",
      "Jazz, Pop\n",
      "2\n",
      "Funk / Soul, Folk, World, & Country\n",
      "2\n",
      "Latin, Funk / Soul\n",
      "2\n",
      "Funk / Soul, Blues\n",
      "1\n",
      "Reggae,�Pop,�Folk, World, & Country,�Stage & Screen\n",
      "1\n",
      "Electronic,�Stage & Screen\n",
      "1\n",
      "Jazz, Rock, Funk / Soul, Blues\n",
      "1\n",
      "Jazz, Rock\n",
      "1\n",
      "Rock, Latin, Funk / Soul\n",
      "1\n",
      "Electronic, Rock, Pop\n",
      "1\n",
      "Hip Hop, Rock, Funk / Soul\n",
      "1\n",
      "Electronic, Pop\n",
      "1\n",
      "Rock, Blues, Pop\n",
      "1\n",
      "Electronic, Rock, Funk / Soul, Pop\n",
      "1\n",
      "Rock, Funk / Soul, Folk, World, & Country\n",
      "1\n",
      "Rock,�Blues\n",
      "1\n",
      "Rock, Pop, Folk, World, & Country\n",
      "1\n",
      "Rock, Latin\n",
      "1\n",
      "Rock, Stage & Screen\n",
      "1\n",
      "Rock, Blues, Folk, World, & Country\n",
      "1\n",
      "Electronic\n",
      "1\n",
      "Electronic, Funk / Soul, Pop\n",
      "1\n",
      "Pop, Folk, World, & Country\n",
      "1\n",
      "Electronic, Hip Hop, Pop\n",
      "1\n",
      "Blues, Folk, World, & Country\n",
      "1\n",
      "Electronic, Hip Hop, Funk / Soul, Pop\n",
      "1\n",
      "Rock, Funk / Soul, Blues, Pop, Folk, World, & Country\n",
      "1\n",
      "Jazz, Pop, Folk, World, & Country\n",
      "1\n",
      "Jazz, Rock, Pop\n",
      "1\n",
      "Hip Hop, Funk / Soul\n",
      "1\n",
      "Hip Hop, Rock\n",
      "1\n",
      "Electronic, Hip Hop, Funk / Soul\n",
      "1\n",
      "Funk / Soul,�Folk, World, & Country\n",
      "1\n",
      "Electronic, Hip Hop, Reggae, Pop\n",
      "1\n",
      "Electronic, Reggae\n",
      "1\n",
      "Electronic, Funk / Soul\n",
      "1\n",
      "Rock, Funk / Soul, Blues\n",
      "1\n",
      "Rock,�Pop\n",
      "1\n",
      "Electronic, Rock, Funk / Soul, Blues, Pop\n",
      "1\n",
      "Rock, Reggae, Latin\n",
      "1\n"
     ]
    }
   ],
   "source": [
    "nomi_generi = top_albums[\"Genre\"].unique()\n",
    "n_album_per_genere = top_genres.value_counts()\n",
    "\n",
    "for i in range (0, len(nomi_generi)):\n",
    "    print (nomi_generi[i])\n",
    "    print (n_album_per_genere[i])\n",
    "    \n",
    "\n",
    "#for i in top_genres.value_counts(): #and top_albums[\"Genre\"].unique():\n",
    "    #print (i)\n",
    "    #print (top_genres.value_counts(normalize=True)) \n"
   ]
  },
  {
   "cell_type": "code",
   "execution_count": 23,
   "metadata": {},
   "outputs": [
    {
     "data": {
      "text/plain": [
       "pandas.core.series.Series"
      ]
     },
     "execution_count": 23,
     "metadata": {},
     "output_type": "execute_result"
    }
   ],
   "source": [
    "type(top_genres.value_counts(normalize=True))"
   ]
  },
  {
   "cell_type": "code",
   "execution_count": 28,
   "metadata": {},
   "outputs": [
    {
     "ename": "KeyError",
     "evalue": "'Genre'",
     "output_type": "error",
     "traceback": [
      "\u001b[1;31m---------------------------------------------------------------------------\u001b[0m",
      "\u001b[1;31mKeyError\u001b[0m                                  Traceback (most recent call last)",
      "\u001b[1;32m<ipython-input-28-17853099d3e8>\u001b[0m in \u001b[0;36m<module>\u001b[1;34m\u001b[0m\n\u001b[0;32m      1\u001b[0m \u001b[0mn_album_per_genere\u001b[0m \u001b[1;33m=\u001b[0m \u001b[0mtop_genres\u001b[0m\u001b[1;33m.\u001b[0m\u001b[0mvalue_counts\u001b[0m\u001b[1;33m(\u001b[0m\u001b[1;33m)\u001b[0m\u001b[1;33m\u001b[0m\u001b[1;33m\u001b[0m\u001b[0m\n\u001b[0;32m      2\u001b[0m \u001b[1;33m\u001b[0m\u001b[0m\n\u001b[1;32m----> 3\u001b[1;33m \u001b[0mn_album_per_genere\u001b[0m\u001b[1;33m.\u001b[0m\u001b[0mgroupby\u001b[0m\u001b[1;33m(\u001b[0m\u001b[1;33m[\u001b[0m\u001b[1;34m\"Genre\"\u001b[0m\u001b[1;33m]\u001b[0m\u001b[1;33m)\u001b[0m\u001b[1;33m\u001b[0m\u001b[1;33m\u001b[0m\u001b[0m\n\u001b[0m\u001b[0;32m      4\u001b[0m \u001b[1;33m\u001b[0m\u001b[0m\n\u001b[0;32m      5\u001b[0m \u001b[1;33m\u001b[0m\u001b[0m\n",
      "\u001b[1;32m~\\anaconda3\\lib\\site-packages\\pandas\\core\\series.py\u001b[0m in \u001b[0;36mgroupby\u001b[1;34m(self, by, axis, level, as_index, sort, group_keys, squeeze, observed)\u001b[0m\n\u001b[0;32m   1676\u001b[0m         \u001b[0maxis\u001b[0m \u001b[1;33m=\u001b[0m \u001b[0mself\u001b[0m\u001b[1;33m.\u001b[0m\u001b[0m_get_axis_number\u001b[0m\u001b[1;33m(\u001b[0m\u001b[0maxis\u001b[0m\u001b[1;33m)\u001b[0m\u001b[1;33m\u001b[0m\u001b[1;33m\u001b[0m\u001b[0m\n\u001b[0;32m   1677\u001b[0m \u001b[1;33m\u001b[0m\u001b[0m\n\u001b[1;32m-> 1678\u001b[1;33m         return groupby_generic.SeriesGroupBy(\n\u001b[0m\u001b[0;32m   1679\u001b[0m             \u001b[0mobj\u001b[0m\u001b[1;33m=\u001b[0m\u001b[0mself\u001b[0m\u001b[1;33m,\u001b[0m\u001b[1;33m\u001b[0m\u001b[1;33m\u001b[0m\u001b[0m\n\u001b[0;32m   1680\u001b[0m             \u001b[0mkeys\u001b[0m\u001b[1;33m=\u001b[0m\u001b[0mby\u001b[0m\u001b[1;33m,\u001b[0m\u001b[1;33m\u001b[0m\u001b[1;33m\u001b[0m\u001b[0m\n",
      "\u001b[1;32m~\\anaconda3\\lib\\site-packages\\pandas\\core\\groupby\\groupby.py\u001b[0m in \u001b[0;36m__init__\u001b[1;34m(self, obj, keys, axis, level, grouper, exclusions, selection, as_index, sort, group_keys, squeeze, observed, mutated)\u001b[0m\n\u001b[0;32m    401\u001b[0m             \u001b[1;32mfrom\u001b[0m \u001b[0mpandas\u001b[0m\u001b[1;33m.\u001b[0m\u001b[0mcore\u001b[0m\u001b[1;33m.\u001b[0m\u001b[0mgroupby\u001b[0m\u001b[1;33m.\u001b[0m\u001b[0mgrouper\u001b[0m \u001b[1;32mimport\u001b[0m \u001b[0mget_grouper\u001b[0m\u001b[1;33m\u001b[0m\u001b[1;33m\u001b[0m\u001b[0m\n\u001b[0;32m    402\u001b[0m \u001b[1;33m\u001b[0m\u001b[0m\n\u001b[1;32m--> 403\u001b[1;33m             grouper, exclusions, obj = get_grouper(\n\u001b[0m\u001b[0;32m    404\u001b[0m                 \u001b[0mobj\u001b[0m\u001b[1;33m,\u001b[0m\u001b[1;33m\u001b[0m\u001b[1;33m\u001b[0m\u001b[0m\n\u001b[0;32m    405\u001b[0m                 \u001b[0mkeys\u001b[0m\u001b[1;33m,\u001b[0m\u001b[1;33m\u001b[0m\u001b[1;33m\u001b[0m\u001b[0m\n",
      "\u001b[1;32m~\\anaconda3\\lib\\site-packages\\pandas\\core\\groupby\\grouper.py\u001b[0m in \u001b[0;36mget_grouper\u001b[1;34m(obj, key, axis, level, sort, observed, mutated, validate)\u001b[0m\n\u001b[0;32m    598\u001b[0m                 \u001b[0min_axis\u001b[0m\u001b[1;33m,\u001b[0m \u001b[0mname\u001b[0m\u001b[1;33m,\u001b[0m \u001b[0mlevel\u001b[0m\u001b[1;33m,\u001b[0m \u001b[0mgpr\u001b[0m \u001b[1;33m=\u001b[0m \u001b[1;32mFalse\u001b[0m\u001b[1;33m,\u001b[0m \u001b[1;32mNone\u001b[0m\u001b[1;33m,\u001b[0m \u001b[0mgpr\u001b[0m\u001b[1;33m,\u001b[0m \u001b[1;32mNone\u001b[0m\u001b[1;33m\u001b[0m\u001b[1;33m\u001b[0m\u001b[0m\n\u001b[0;32m    599\u001b[0m             \u001b[1;32melse\u001b[0m\u001b[1;33m:\u001b[0m\u001b[1;33m\u001b[0m\u001b[1;33m\u001b[0m\u001b[0m\n\u001b[1;32m--> 600\u001b[1;33m                 \u001b[1;32mraise\u001b[0m \u001b[0mKeyError\u001b[0m\u001b[1;33m(\u001b[0m\u001b[0mgpr\u001b[0m\u001b[1;33m)\u001b[0m\u001b[1;33m\u001b[0m\u001b[1;33m\u001b[0m\u001b[0m\n\u001b[0m\u001b[0;32m    601\u001b[0m         \u001b[1;32melif\u001b[0m \u001b[0misinstance\u001b[0m\u001b[1;33m(\u001b[0m\u001b[0mgpr\u001b[0m\u001b[1;33m,\u001b[0m \u001b[0mGrouper\u001b[0m\u001b[1;33m)\u001b[0m \u001b[1;32mand\u001b[0m \u001b[0mgpr\u001b[0m\u001b[1;33m.\u001b[0m\u001b[0mkey\u001b[0m \u001b[1;32mis\u001b[0m \u001b[1;32mnot\u001b[0m \u001b[1;32mNone\u001b[0m\u001b[1;33m:\u001b[0m\u001b[1;33m\u001b[0m\u001b[1;33m\u001b[0m\u001b[0m\n\u001b[0;32m    602\u001b[0m             \u001b[1;31m# Add key to exclusions\u001b[0m\u001b[1;33m\u001b[0m\u001b[1;33m\u001b[0m\u001b[1;33m\u001b[0m\u001b[0m\n",
      "\u001b[1;31mKeyError\u001b[0m: 'Genre'"
     ]
    }
   ],
   "source": [
    "n_album_per_genere = top_genres.value_counts()\n",
    "\n",
    "n_album_per_genere.groupby([\"Genre\"])\n",
    "\n",
    "\n"
   ]
  },
  {
   "cell_type": "code",
   "execution_count": null,
   "metadata": {},
   "outputs": [],
   "source": []
  },
  {
   "cell_type": "code",
   "execution_count": null,
   "metadata": {},
   "outputs": [],
   "source": []
  }
 ],
 "metadata": {
  "kernelspec": {
   "display_name": "Python 3",
   "language": "python",
   "name": "python3"
  },
  "language_info": {
   "codemirror_mode": {
    "name": "ipython",
    "version": 3
   },
   "file_extension": ".py",
   "mimetype": "text/x-python",
   "name": "python",
   "nbconvert_exporter": "python",
   "pygments_lexer": "ipython3",
   "version": "3.8.3"
  }
 },
 "nbformat": 4,
 "nbformat_minor": 4
}
