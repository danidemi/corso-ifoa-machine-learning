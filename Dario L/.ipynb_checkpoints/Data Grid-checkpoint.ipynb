{
 "cells": [
  {
   "cell_type": "code",
   "execution_count": 92,
   "metadata": {},
   "outputs": [],
   "source": [
    "import pandas as pd"
   ]
  },
  {
   "cell_type": "code",
   "execution_count": 93,
   "metadata": {},
   "outputs": [],
   "source": [
    "\n",
    "data = pd.DataFrame ({\n",
    "    \n",
    "    #nome colonne\n",
    "    \"Marca\": [\"Iphone\",\"Google\",\"Samsung\",\"Oppo\",\"Sony\",\"POCO\"],\n",
    "    #colonna modello\n",
    "    \"Modello\": [\"12 PRO MAX\",\"Pixel 5\", \"Galaxy S20 FE\",\"Reno 4 SE\",\"Xperia 5 II\",\"X3\"],\n",
    "    \n",
    "    \n",
    "    #colonna mpx fotocamera\n",
    "    \"Mpx_fotocamera\": [12,\n",
    "             12,12,48,12,64],\n",
    "    \n",
    "    \n",
    "    #colonna numero di cores\n",
    "    \"N. Core\": [6,\n",
    "             8,8,8,8,8],\n",
    "    \n",
    "    #grandezza display\n",
    "    \"Dim. Display\": [6.7, 6, 6.5, 6.4, 6.1, 6.7]\n",
    "})\n",
    "\n",
    "\n",
    "\n"
   ]
  },
  {
   "cell_type": "code",
   "execution_count": 91,
   "metadata": {},
   "outputs": [],
   "source": [
    "data = data.style.set_properties(**{'text-align': 'center'})\n",
    "#allineamento ricorda che i drop non vanno se eseguito l'allineamento"
   ]
  },
  {
   "cell_type": "code",
   "execution_count": 94,
   "metadata": {},
   "outputs": [
    {
     "data": {
      "text/html": [
       "<div>\n",
       "<style scoped>\n",
       "    .dataframe tbody tr th:only-of-type {\n",
       "        vertical-align: middle;\n",
       "    }\n",
       "\n",
       "    .dataframe tbody tr th {\n",
       "        vertical-align: top;\n",
       "    }\n",
       "\n",
       "    .dataframe thead th {\n",
       "        text-align: right;\n",
       "    }\n",
       "</style>\n",
       "<table border=\"1\" class=\"dataframe\">\n",
       "  <thead>\n",
       "    <tr style=\"text-align: right;\">\n",
       "      <th></th>\n",
       "      <th>Marca</th>\n",
       "      <th>Modello</th>\n",
       "      <th>Mpx_fotocamera</th>\n",
       "      <th>N. Core</th>\n",
       "      <th>Dim. Display</th>\n",
       "    </tr>\n",
       "  </thead>\n",
       "  <tbody>\n",
       "    <tr>\n",
       "      <th>0</th>\n",
       "      <td>Iphone</td>\n",
       "      <td>12 PRO MAX</td>\n",
       "      <td>12</td>\n",
       "      <td>6</td>\n",
       "      <td>6.7</td>\n",
       "    </tr>\n",
       "    <tr>\n",
       "      <th>1</th>\n",
       "      <td>Google</td>\n",
       "      <td>Pixel 5</td>\n",
       "      <td>12</td>\n",
       "      <td>8</td>\n",
       "      <td>6.0</td>\n",
       "    </tr>\n",
       "    <tr>\n",
       "      <th>2</th>\n",
       "      <td>Samsung</td>\n",
       "      <td>Galaxy S20 FE</td>\n",
       "      <td>12</td>\n",
       "      <td>8</td>\n",
       "      <td>6.5</td>\n",
       "    </tr>\n",
       "    <tr>\n",
       "      <th>3</th>\n",
       "      <td>Oppo</td>\n",
       "      <td>Reno 4 SE</td>\n",
       "      <td>48</td>\n",
       "      <td>8</td>\n",
       "      <td>6.4</td>\n",
       "    </tr>\n",
       "    <tr>\n",
       "      <th>4</th>\n",
       "      <td>Sony</td>\n",
       "      <td>Xperia 5 II</td>\n",
       "      <td>12</td>\n",
       "      <td>8</td>\n",
       "      <td>6.1</td>\n",
       "    </tr>\n",
       "    <tr>\n",
       "      <th>5</th>\n",
       "      <td>POCO</td>\n",
       "      <td>X3</td>\n",
       "      <td>64</td>\n",
       "      <td>8</td>\n",
       "      <td>6.7</td>\n",
       "    </tr>\n",
       "  </tbody>\n",
       "</table>\n",
       "</div>"
      ],
      "text/plain": [
       "     Marca        Modello  Mpx_fotocamera  N. Core  Dim. Display\n",
       "0   Iphone     12 PRO MAX              12        6           6.7\n",
       "1   Google        Pixel 5              12        8           6.0\n",
       "2  Samsung  Galaxy S20 FE              12        8           6.5\n",
       "3     Oppo      Reno 4 SE              48        8           6.4\n",
       "4     Sony    Xperia 5 II              12        8           6.1\n",
       "5     POCO             X3              64        8           6.7"
      ]
     },
     "execution_count": 94,
     "metadata": {},
     "output_type": "execute_result"
    }
   ],
   "source": [
    "data"
   ]
  },
  {
   "cell_type": "code",
   "execution_count": 95,
   "metadata": {},
   "outputs": [
    {
     "data": {
      "text/plain": [
       "0     Iphone\n",
       "1     Google\n",
       "2    Samsung\n",
       "3       Oppo\n",
       "4       Sony\n",
       "5       POCO\n",
       "Name: Marca, dtype: object"
      ]
     },
     "execution_count": 95,
     "metadata": {},
     "output_type": "execute_result"
    }
   ],
   "source": [
    "data [\"Marca\"]"
   ]
  },
  {
   "cell_type": "code",
   "execution_count": 79,
   "metadata": {},
   "outputs": [
    {
     "data": {
      "text/html": [
       "<div>\n",
       "<style scoped>\n",
       "    .dataframe tbody tr th:only-of-type {\n",
       "        vertical-align: middle;\n",
       "    }\n",
       "\n",
       "    .dataframe tbody tr th {\n",
       "        vertical-align: top;\n",
       "    }\n",
       "\n",
       "    .dataframe thead th {\n",
       "        text-align: right;\n",
       "    }\n",
       "</style>\n",
       "<table border=\"1\" class=\"dataframe\">\n",
       "  <thead>\n",
       "    <tr style=\"text-align: right;\">\n",
       "      <th></th>\n",
       "      <th>Modello</th>\n",
       "      <th>Mpx_fotocamera</th>\n",
       "      <th>N. Core</th>\n",
       "      <th>Dim. Display</th>\n",
       "    </tr>\n",
       "  </thead>\n",
       "  <tbody>\n",
       "    <tr>\n",
       "      <th>0</th>\n",
       "      <td>12 PRO MAX</td>\n",
       "      <td>12</td>\n",
       "      <td>6</td>\n",
       "      <td>6.7</td>\n",
       "    </tr>\n",
       "    <tr>\n",
       "      <th>1</th>\n",
       "      <td>Pixel 5</td>\n",
       "      <td>12</td>\n",
       "      <td>8</td>\n",
       "      <td>6.0</td>\n",
       "    </tr>\n",
       "    <tr>\n",
       "      <th>2</th>\n",
       "      <td>Galaxy S20 FE</td>\n",
       "      <td>12</td>\n",
       "      <td>8</td>\n",
       "      <td>6.5</td>\n",
       "    </tr>\n",
       "    <tr>\n",
       "      <th>3</th>\n",
       "      <td>Reno 4 SE</td>\n",
       "      <td>48</td>\n",
       "      <td>8</td>\n",
       "      <td>6.4</td>\n",
       "    </tr>\n",
       "    <tr>\n",
       "      <th>4</th>\n",
       "      <td>Xperia 5 II</td>\n",
       "      <td>12</td>\n",
       "      <td>8</td>\n",
       "      <td>6.1</td>\n",
       "    </tr>\n",
       "    <tr>\n",
       "      <th>5</th>\n",
       "      <td>X3</td>\n",
       "      <td>64</td>\n",
       "      <td>8</td>\n",
       "      <td>6.7</td>\n",
       "    </tr>\n",
       "  </tbody>\n",
       "</table>\n",
       "</div>"
      ],
      "text/plain": [
       "         Modello  Mpx_fotocamera  N. Core  Dim. Display\n",
       "0     12 PRO MAX              12        6           6.7\n",
       "1        Pixel 5              12        8           6.0\n",
       "2  Galaxy S20 FE              12        8           6.5\n",
       "3      Reno 4 SE              48        8           6.4\n",
       "4    Xperia 5 II              12        8           6.1\n",
       "5             X3              64        8           6.7"
      ]
     },
     "execution_count": 79,
     "metadata": {},
     "output_type": "execute_result"
    }
   ],
   "source": [
    "data.drop([\"Marca\"], axis=1)\n",
    "#no marca"
   ]
  },
  {
   "cell_type": "code",
   "execution_count": 96,
   "metadata": {},
   "outputs": [
    {
     "data": {
      "text/html": [
       "<div>\n",
       "<style scoped>\n",
       "    .dataframe tbody tr th:only-of-type {\n",
       "        vertical-align: middle;\n",
       "    }\n",
       "\n",
       "    .dataframe tbody tr th {\n",
       "        vertical-align: top;\n",
       "    }\n",
       "\n",
       "    .dataframe thead th {\n",
       "        text-align: right;\n",
       "    }\n",
       "</style>\n",
       "<table border=\"1\" class=\"dataframe\">\n",
       "  <thead>\n",
       "    <tr style=\"text-align: right;\">\n",
       "      <th></th>\n",
       "      <th>Marca</th>\n",
       "      <th>Modello</th>\n",
       "      <th>Mpx_fotocamera</th>\n",
       "      <th>N. Core</th>\n",
       "      <th>Dim. Display</th>\n",
       "    </tr>\n",
       "  </thead>\n",
       "  <tbody>\n",
       "    <tr>\n",
       "      <th>1</th>\n",
       "      <td>Google</td>\n",
       "      <td>Pixel 5</td>\n",
       "      <td>12</td>\n",
       "      <td>8</td>\n",
       "      <td>6.0</td>\n",
       "    </tr>\n",
       "    <tr>\n",
       "      <th>2</th>\n",
       "      <td>Samsung</td>\n",
       "      <td>Galaxy S20 FE</td>\n",
       "      <td>12</td>\n",
       "      <td>8</td>\n",
       "      <td>6.5</td>\n",
       "    </tr>\n",
       "    <tr>\n",
       "      <th>3</th>\n",
       "      <td>Oppo</td>\n",
       "      <td>Reno 4 SE</td>\n",
       "      <td>48</td>\n",
       "      <td>8</td>\n",
       "      <td>6.4</td>\n",
       "    </tr>\n",
       "    <tr>\n",
       "      <th>4</th>\n",
       "      <td>Sony</td>\n",
       "      <td>Xperia 5 II</td>\n",
       "      <td>12</td>\n",
       "      <td>8</td>\n",
       "      <td>6.1</td>\n",
       "    </tr>\n",
       "    <tr>\n",
       "      <th>5</th>\n",
       "      <td>POCO</td>\n",
       "      <td>X3</td>\n",
       "      <td>64</td>\n",
       "      <td>8</td>\n",
       "      <td>6.7</td>\n",
       "    </tr>\n",
       "  </tbody>\n",
       "</table>\n",
       "</div>"
      ],
      "text/plain": [
       "     Marca        Modello  Mpx_fotocamera  N. Core  Dim. Display\n",
       "1   Google        Pixel 5              12        8           6.0\n",
       "2  Samsung  Galaxy S20 FE              12        8           6.5\n",
       "3     Oppo      Reno 4 SE              48        8           6.4\n",
       "4     Sony    Xperia 5 II              12        8           6.1\n",
       "5     POCO             X3              64        8           6.7"
      ]
     },
     "execution_count": 96,
     "metadata": {},
     "output_type": "execute_result"
    }
   ],
   "source": [
    "data.drop([0], axis=0)\n",
    "#no iphone"
   ]
  },
  {
   "cell_type": "code",
   "execution_count": 97,
   "metadata": {},
   "outputs": [
    {
     "data": {
      "text/plain": [
       "<bound method NDFrame.describe of      Marca        Modello  Mpx_fotocamera  N. Core  Dim. Display\n",
       "0   Iphone     12 PRO MAX              12        6           6.7\n",
       "1   Google        Pixel 5              12        8           6.0\n",
       "2  Samsung  Galaxy S20 FE              12        8           6.5\n",
       "3     Oppo      Reno 4 SE              48        8           6.4\n",
       "4     Sony    Xperia 5 II              12        8           6.1\n",
       "5     POCO             X3              64        8           6.7>"
      ]
     },
     "execution_count": 97,
     "metadata": {},
     "output_type": "execute_result"
    }
   ],
   "source": [
    "data.describe"
   ]
  },
  {
   "cell_type": "code",
   "execution_count": null,
   "metadata": {},
   "outputs": [],
   "source": []
  }
 ],
 "metadata": {
  "kernelspec": {
   "display_name": "Python 3",
   "language": "python",
   "name": "python3"
  },
  "language_info": {
   "codemirror_mode": {
    "name": "ipython",
    "version": 3
   },
   "file_extension": ".py",
   "mimetype": "text/x-python",
   "name": "python",
   "nbconvert_exporter": "python",
   "pygments_lexer": "ipython3",
   "version": "3.8.3"
  }
 },
 "nbformat": 4,
 "nbformat_minor": 4
}
