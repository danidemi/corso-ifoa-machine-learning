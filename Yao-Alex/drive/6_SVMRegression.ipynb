{
 "cells": [
  {
   "cell_type": "markdown",
   "metadata": {},
   "source": [
    "L'algoritmo di SVM è versatile: non solo supporta classificazioni lineari ma può essere utilizzato anche per fare regressione."
   ]
  },
  {
   "cell_type": "code",
   "execution_count": null,
   "metadata": {},
   "outputs": [],
   "source": [
    "from sklearn.datasets import make_regression\n",
    "X,y = make_regression(n_samples=200, n_features=1, bias=1, noise=30, shuffle=True, random_state = 6)"
   ]
  },
  {
   "cell_type": "code",
   "execution_count": null,
   "metadata": {},
   "outputs": [],
   "source": [
    "import matplotlib.pyplot as plt\n",
    "\n",
    "plt.scatter(X[:,0],y, s=30)\n",
    "plt.show()"
   ]
  },
  {
   "cell_type": "code",
   "execution_count": null,
   "metadata": {},
   "outputs": [],
   "source": [
    "from sklearn.svm import SVR\n",
    "from sklearn.pipeline import make_pipeline\n",
    "from sklearn.preprocessing import StandardScaler\n",
    "\n",
    "svm_reg = make_pipeline(StandardScaler(), SVR(kernel = 'linear'))\n",
    "svm_reg.fit(X, y)"
   ]
  },
  {
   "cell_type": "code",
   "execution_count": null,
   "metadata": {},
   "outputs": [],
   "source": [
    "y_pred = svm_reg.predict(X)\n",
    "plt.scatter(X[:,0],y, s=30)\n",
    "plt.plot(X[:,0],y_pred, color ='g',linewidth = 0.5)\n",
    "plt.show()"
   ]
  },
  {
   "cell_type": "markdown",
   "metadata": {},
   "source": [
    "### SVM"
   ]
  },
  {
   "cell_type": "markdown",
   "metadata": {},
   "source": [
    "* E'una famiglia di algoritmi che viene usata sia per fare classificazione (SVC) sia per fare regressione (SVR);\n",
    "* Il SVC prevede solo la classificazione binaria, ma utilizzando la tecnica del oneVsRest è in grado di gestire anche il caso di multiclassi;\n",
    "* Quando si utilizza il SVC o il SVR è sempre meglio standardizzare i dati (make_pipeline(StandardScaler(), SVR())) tramite una pipeline e lo StandardScaler;\n",
    "* Abbiamo visto tre tipi di kernel: linear, poly e rbf (di default utilizza l'rbf)"
   ]
  }
 ],
 "metadata": {
  "kernelspec": {
   "display_name": "Python 3",
   "language": "python",
   "name": "python3"
  },
  "language_info": {
   "codemirror_mode": {
    "name": "ipython",
    "version": 3
   },
   "file_extension": ".py",
   "mimetype": "text/x-python",
   "name": "python",
   "nbconvert_exporter": "python",
   "pygments_lexer": "ipython3",
   "version": "3.8.6"
  }
 },
 "nbformat": 4,
 "nbformat_minor": 4
}
