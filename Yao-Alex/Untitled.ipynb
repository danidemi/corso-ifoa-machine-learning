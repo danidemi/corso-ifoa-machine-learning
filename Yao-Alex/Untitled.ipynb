{
 "cells": [
  {
   "cell_type": "code",
   "execution_count": 9,
   "metadata": {},
   "outputs": [],
   "source": [
    "import pandas as pd\n"
   ]
  },
  {
   "cell_type": "code",
   "execution_count": 40,
   "metadata": {},
   "outputs": [],
   "source": [
    "mobiles = pd.read_csv(\"/Users/test/corso-ifoa-machine-learning/Yao-Alex/mobiles.csv\")"
   ]
  },
  {
   "cell_type": "code",
   "execution_count": 41,
   "metadata": {},
   "outputs": [
    {
     "data": {
      "text/html": [
       "<div>\n",
       "<style scoped>\n",
       "    .dataframe tbody tr th:only-of-type {\n",
       "        vertical-align: middle;\n",
       "    }\n",
       "\n",
       "    .dataframe tbody tr th {\n",
       "        vertical-align: top;\n",
       "    }\n",
       "\n",
       "    .dataframe thead th {\n",
       "        text-align: right;\n",
       "    }\n",
       "</style>\n",
       "<table border=\"1\" class=\"dataframe\">\n",
       "  <thead>\n",
       "    <tr style=\"text-align: right;\">\n",
       "      <th></th>\n",
       "      <th>id;name;Generation;Color;Number_Of_SIM;item_price;item_brand_name</th>\n",
       "    </tr>\n",
       "  </thead>\n",
       "  <tbody>\n",
       "    <tr>\n",
       "      <th>0;Mione K1 ROM 3GB RAM 32GB 5.99 Inch display 4G - Black;;;;227</th>\n",
       "      <td>599.00 SAR;mione</td>\n",
       "    </tr>\n",
       "    <tr>\n",
       "      <th>1;Porsche design Huawei Mate 20 RS Dual SIM - 512GB;4G LTE;Red;;8</th>\n",
       "      <td>500.00 SAR;huawei</td>\n",
       "    </tr>\n",
       "    <tr>\n",
       "      <th>2;Samsung Galaxy Fold Dual SIM - 512GB;4G LTE;Silver;;7</th>\n",
       "      <td>587.00 SAR;samsung</td>\n",
       "    </tr>\n",
       "    <tr>\n",
       "      <th>3;Samsung Galaxy Fold Dual SIM - 512GB;4G LTE;Black;;7</th>\n",
       "      <td>099.00 SAR;samsung</td>\n",
       "    </tr>\n",
       "    <tr>\n",
       "      <th>4;Blackberry P'9981 Porsche Design - 8GB;Black;;;6</th>\n",
       "      <td>550.00 SAR;blackberry</td>\n",
       "    </tr>\n",
       "    <tr>\n",
       "      <th>...</th>\n",
       "      <td>...</td>\n",
       "    </tr>\n",
       "    <tr>\n",
       "      <th>2755;Huawei P40 Pro Single SIM and E-SIM - 256GB;5G - Silver Frost;;;3</th>\n",
       "      <td>499.00 SAR;huawei</td>\n",
       "    </tr>\n",
       "    <tr>\n",
       "      <th>2756;Apple iPhone XR without Face Time - 64GB;White ;;;3</th>\n",
       "      <td>498.00 SAR;apple</td>\n",
       "    </tr>\n",
       "    <tr>\n",
       "      <th>2757;Samsung Galaxy S10 Plus Dual Sim - 1Tb;4G LTE;Ceramic White;Sm-G975FcwhXSg;3</th>\n",
       "      <td>489.00 SAR;samsung</td>\n",
       "    </tr>\n",
       "    <tr>\n",
       "      <th>2758;Apple iPhone 11 with FaceTime - 256GB;4G LTE;Yellow;Single SIM &amp; E-SIM;3</th>\n",
       "      <td>487.97 SAR;apple</td>\n",
       "    </tr>\n",
       "    <tr>\n",
       "      <th>2759;Samsung Galaxy S20 Plus Dual SIM - 128GB;4G LTE - Light Blue;;;3</th>\n",
       "      <td>398.98 SAR;samsung</td>\n",
       "    </tr>\n",
       "  </tbody>\n",
       "</table>\n",
       "<p>2760 rows × 1 columns</p>\n",
       "</div>"
      ],
      "text/plain": [
       "                                                   id;name;Generation;Color;Number_Of_SIM;item_price;item_brand_name\n",
       "0;Mione K1 ROM 3GB RAM 32GB 5.99 Inch display 4...                                   599.00 SAR;mione               \n",
       "1;Porsche design Huawei Mate 20 RS Dual SIM - 5...                                  500.00 SAR;huawei               \n",
       "2;Samsung Galaxy Fold Dual SIM - 512GB;4G LTE;S...                                 587.00 SAR;samsung               \n",
       "3;Samsung Galaxy Fold Dual SIM - 512GB;4G LTE;B...                                 099.00 SAR;samsung               \n",
       "4;Blackberry P'9981 Porsche Design - 8GB;Black;;;6                              550.00 SAR;blackberry               \n",
       "...                                                                                               ...               \n",
       "2755;Huawei P40 Pro Single SIM and E-SIM - 256G...                                  499.00 SAR;huawei               \n",
       "2756;Apple iPhone XR without Face Time - 64GB;W...                                   498.00 SAR;apple               \n",
       "2757;Samsung Galaxy S10 Plus Dual Sim - 1Tb;4G ...                                 489.00 SAR;samsung               \n",
       "2758;Apple iPhone 11 with FaceTime - 256GB;4G L...                                   487.97 SAR;apple               \n",
       "2759;Samsung Galaxy S20 Plus Dual SIM - 128GB;4...                                 398.98 SAR;samsung               \n",
       "\n",
       "[2760 rows x 1 columns]"
      ]
     },
     "execution_count": 41,
     "metadata": {},
     "output_type": "execute_result"
    }
   ],
   "source": [
    "mobiles"
   ]
  },
  {
   "cell_type": "code",
   "execution_count": 38,
   "metadata": {},
   "outputs": [
    {
     "data": {
      "text/plain": [
       "array([nan, 'Red', 'Silver', 'Black', 'Space Gray', '4 GB Ram', 'Gold',\n",
       "       'Midnight Green', '6.5 Inch', 'Black/Grey', 'Aura White',\n",
       "       'Aura Glow', 'Blue', 'Aura Black', 'White', 'Green', '3 GB Ram',\n",
       "       'Purple', '6 GB Ram', 'Ceramic White', 'Yellow'], dtype=object)"
      ]
     },
     "execution_count": 38,
     "metadata": {},
     "output_type": "execute_result"
    }
   ],
   "source": [
    "Color = mobiles[\"Color\"].unique()\n",
    "Color"
   ]
  },
  {
   "cell_type": "code",
   "execution_count": 36,
   "metadata": {},
   "outputs": [
    {
     "name": "stdout",
     "output_type": "stream",
     "text": [
      "count      1656\n",
      "unique       20\n",
      "top       Black\n",
      "freq        276\n",
      "Name: Color, dtype: object\n"
     ]
    }
   ],
   "source": [
    "print(mobiles[\"Color\"].describe())"
   ]
  },
  {
   "cell_type": "code",
   "execution_count": null,
   "metadata": {},
   "outputs": [],
   "source": []
  },
  {
   "cell_type": "code",
   "execution_count": null,
   "metadata": {},
   "outputs": [],
   "source": []
  }
 ],
 "metadata": {
  "kernelspec": {
   "display_name": "Python 3",
   "language": "python",
   "name": "python3"
  },
  "language_info": {
   "codemirror_mode": {
    "name": "ipython",
    "version": 3
   },
   "file_extension": ".py",
   "mimetype": "text/x-python",
   "name": "python",
   "nbconvert_exporter": "python",
   "pygments_lexer": "ipython3",
   "version": "3.8.3"
  }
 },
 "nbformat": 4,
 "nbformat_minor": 4
}
