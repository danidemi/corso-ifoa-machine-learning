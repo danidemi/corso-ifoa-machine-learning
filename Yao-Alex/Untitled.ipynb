{
 "cells": [
  {
   "cell_type": "code",
   "execution_count": 9,
   "metadata": {},
   "outputs": [],
   "source": [
    "import pandas as pd\n"
   ]
  },
  {
   "cell_type": "code",
   "execution_count": 23,
   "metadata": {},
   "outputs": [],
   "source": [
    "mobiles = pd.read_csv(\"/Users/test/corso-ifoa-machine-learning/Yao-Alex/mobile.csv\")\n"
   ]
  },
  {
   "cell_type": "code",
   "execution_count": 24,
   "metadata": {},
   "outputs": [
    {
     "data": {
      "text/html": [
       "<div>\n",
       "<style scoped>\n",
       "    .dataframe tbody tr th:only-of-type {\n",
       "        vertical-align: middle;\n",
       "    }\n",
       "\n",
       "    .dataframe tbody tr th {\n",
       "        vertical-align: top;\n",
       "    }\n",
       "\n",
       "    .dataframe thead th {\n",
       "        text-align: right;\n",
       "    }\n",
       "</style>\n",
       "<table border=\"1\" class=\"dataframe\">\n",
       "  <thead>\n",
       "    <tr style=\"text-align: right;\">\n",
       "      <th></th>\n",
       "      <th>id</th>\n",
       "      <th>name</th>\n",
       "      <th>Generation</th>\n",
       "      <th>Color</th>\n",
       "      <th>Number_Of_SIM</th>\n",
       "      <th>item_price</th>\n",
       "      <th>item_brand_name</th>\n",
       "    </tr>\n",
       "  </thead>\n",
       "  <tbody>\n",
       "    <tr>\n",
       "      <th>0</th>\n",
       "      <td>0</td>\n",
       "      <td>Mione K1 ROM 3GB RAM 32GB 5.99 Inch display 4G...</td>\n",
       "      <td>NaN</td>\n",
       "      <td>NaN</td>\n",
       "      <td>NaN</td>\n",
       "      <td>227,599.00 SAR</td>\n",
       "      <td>mione</td>\n",
       "    </tr>\n",
       "    <tr>\n",
       "      <th>1</th>\n",
       "      <td>1</td>\n",
       "      <td>Porsche design Huawei Mate 20 RS Dual SIM - 512GB</td>\n",
       "      <td>4G LTE</td>\n",
       "      <td>Red</td>\n",
       "      <td>NaN</td>\n",
       "      <td>8,500.00 SAR</td>\n",
       "      <td>huawei</td>\n",
       "    </tr>\n",
       "    <tr>\n",
       "      <th>2</th>\n",
       "      <td>2</td>\n",
       "      <td>Samsung Galaxy Fold Dual SIM - 512GB</td>\n",
       "      <td>4G LTE</td>\n",
       "      <td>Silver</td>\n",
       "      <td>NaN</td>\n",
       "      <td>7,587.00 SAR</td>\n",
       "      <td>samsung</td>\n",
       "    </tr>\n",
       "    <tr>\n",
       "      <th>3</th>\n",
       "      <td>3</td>\n",
       "      <td>Samsung Galaxy Fold Dual SIM - 512GB</td>\n",
       "      <td>4G LTE</td>\n",
       "      <td>Black</td>\n",
       "      <td>NaN</td>\n",
       "      <td>7,099.00 SAR</td>\n",
       "      <td>samsung</td>\n",
       "    </tr>\n",
       "    <tr>\n",
       "      <th>4</th>\n",
       "      <td>4</td>\n",
       "      <td>Blackberry P'9981 Porsche Design - 8GB</td>\n",
       "      <td>Black</td>\n",
       "      <td>NaN</td>\n",
       "      <td>NaN</td>\n",
       "      <td>6,550.00 SAR</td>\n",
       "      <td>blackberry</td>\n",
       "    </tr>\n",
       "    <tr>\n",
       "      <th>...</th>\n",
       "      <td>...</td>\n",
       "      <td>...</td>\n",
       "      <td>...</td>\n",
       "      <td>...</td>\n",
       "      <td>...</td>\n",
       "      <td>...</td>\n",
       "      <td>...</td>\n",
       "    </tr>\n",
       "    <tr>\n",
       "      <th>2755</th>\n",
       "      <td>2755</td>\n",
       "      <td>Huawei P40 Pro Single SIM and E-SIM - 256GB</td>\n",
       "      <td>5G - Silver Frost</td>\n",
       "      <td>NaN</td>\n",
       "      <td>NaN</td>\n",
       "      <td>3,499.00 SAR</td>\n",
       "      <td>huawei</td>\n",
       "    </tr>\n",
       "    <tr>\n",
       "      <th>2756</th>\n",
       "      <td>2756</td>\n",
       "      <td>Apple iPhone XR without Face Time - 64GB</td>\n",
       "      <td>White</td>\n",
       "      <td>NaN</td>\n",
       "      <td>NaN</td>\n",
       "      <td>3,498.00 SAR</td>\n",
       "      <td>apple</td>\n",
       "    </tr>\n",
       "    <tr>\n",
       "      <th>2757</th>\n",
       "      <td>2757</td>\n",
       "      <td>Samsung Galaxy S10 Plus Dual Sim - 1Tb</td>\n",
       "      <td>4G LTE</td>\n",
       "      <td>Ceramic White</td>\n",
       "      <td>Sm-G975FcwhXSg</td>\n",
       "      <td>3,489.00 SAR</td>\n",
       "      <td>samsung</td>\n",
       "    </tr>\n",
       "    <tr>\n",
       "      <th>2758</th>\n",
       "      <td>2758</td>\n",
       "      <td>Apple iPhone 11 with FaceTime - 256GB</td>\n",
       "      <td>4G LTE</td>\n",
       "      <td>Yellow</td>\n",
       "      <td>Single SIM &amp; E-SIM</td>\n",
       "      <td>3,487.97 SAR</td>\n",
       "      <td>apple</td>\n",
       "    </tr>\n",
       "    <tr>\n",
       "      <th>2759</th>\n",
       "      <td>2759</td>\n",
       "      <td>Samsung Galaxy S20 Plus Dual SIM - 128GB</td>\n",
       "      <td>4G LTE - Light Blue</td>\n",
       "      <td>NaN</td>\n",
       "      <td>NaN</td>\n",
       "      <td>3,398.98 SAR</td>\n",
       "      <td>samsung</td>\n",
       "    </tr>\n",
       "  </tbody>\n",
       "</table>\n",
       "<p>2760 rows × 7 columns</p>\n",
       "</div>"
      ],
      "text/plain": [
       "        id                                               name  \\\n",
       "0        0  Mione K1 ROM 3GB RAM 32GB 5.99 Inch display 4G...   \n",
       "1        1  Porsche design Huawei Mate 20 RS Dual SIM - 512GB   \n",
       "2        2               Samsung Galaxy Fold Dual SIM - 512GB   \n",
       "3        3               Samsung Galaxy Fold Dual SIM - 512GB   \n",
       "4        4             Blackberry P'9981 Porsche Design - 8GB   \n",
       "...    ...                                                ...   \n",
       "2755  2755        Huawei P40 Pro Single SIM and E-SIM - 256GB   \n",
       "2756  2756           Apple iPhone XR without Face Time - 64GB   \n",
       "2757  2757             Samsung Galaxy S10 Plus Dual Sim - 1Tb   \n",
       "2758  2758              Apple iPhone 11 with FaceTime - 256GB   \n",
       "2759  2759           Samsung Galaxy S20 Plus Dual SIM - 128GB   \n",
       "\n",
       "               Generation          Color       Number_Of_SIM      item_price  \\\n",
       "0                     NaN            NaN                 NaN  227,599.00 SAR   \n",
       "1                  4G LTE            Red                 NaN    8,500.00 SAR   \n",
       "2                  4G LTE         Silver                 NaN    7,587.00 SAR   \n",
       "3                  4G LTE          Black                 NaN    7,099.00 SAR   \n",
       "4                   Black            NaN                 NaN    6,550.00 SAR   \n",
       "...                   ...            ...                 ...             ...   \n",
       "2755    5G - Silver Frost            NaN                 NaN    3,499.00 SAR   \n",
       "2756               White             NaN                 NaN    3,498.00 SAR   \n",
       "2757               4G LTE  Ceramic White      Sm-G975FcwhXSg    3,489.00 SAR   \n",
       "2758               4G LTE         Yellow  Single SIM & E-SIM    3,487.97 SAR   \n",
       "2759  4G LTE - Light Blue            NaN                 NaN    3,398.98 SAR   \n",
       "\n",
       "     item_brand_name  \n",
       "0              mione  \n",
       "1             huawei  \n",
       "2            samsung  \n",
       "3            samsung  \n",
       "4         blackberry  \n",
       "...              ...  \n",
       "2755          huawei  \n",
       "2756           apple  \n",
       "2757         samsung  \n",
       "2758           apple  \n",
       "2759         samsung  \n",
       "\n",
       "[2760 rows x 7 columns]"
      ]
     },
     "execution_count": 24,
     "metadata": {},
     "output_type": "execute_result"
    }
   ],
   "source": [
    "mobiles"
   ]
  },
  {
   "cell_type": "code",
   "execution_count": 34,
   "metadata": {},
   "outputs": [
    {
     "data": {
      "text/plain": [
       "array([nan, 'Red', 'Silver', 'Black', 'Space Gray', '4 GB Ram', 'Gold',\n",
       "       'Midnight Green', '6.5 Inch', 'Black/Grey', 'Aura White',\n",
       "       'Aura Glow', 'Blue', 'Aura Black', 'White', 'Green', '3 GB Ram',\n",
       "       'Purple', '6 GB Ram', 'Ceramic White', 'Yellow'], dtype=object)"
      ]
     },
     "execution_count": 34,
     "metadata": {},
     "output_type": "execute_result"
    }
   ],
   "source": [
    "Color = mobiles[\"Color\"].unique()\n",
    "Color"
   ]
  },
  {
   "cell_type": "code",
   "execution_count": 36,
   "metadata": {},
   "outputs": [
    {
     "name": "stdout",
     "output_type": "stream",
     "text": [
      "count      1656\n",
      "unique       20\n",
      "top       Black\n",
      "freq        276\n",
      "Name: Color, dtype: object\n"
     ]
    }
   ],
   "source": [
    "print(mobiles[\"Color\"].describe())"
   ]
  },
  {
   "cell_type": "code",
   "execution_count": null,
   "metadata": {},
   "outputs": [],
   "source": []
  },
  {
   "cell_type": "code",
   "execution_count": null,
   "metadata": {},
   "outputs": [],
   "source": []
  }
 ],
 "metadata": {
  "kernelspec": {
   "display_name": "Python 3",
   "language": "python",
   "name": "python3"
  },
  "language_info": {
   "codemirror_mode": {
    "name": "ipython",
    "version": 3
   },
   "file_extension": ".py",
   "mimetype": "text/x-python",
   "name": "python",
   "nbconvert_exporter": "python",
   "pygments_lexer": "ipython3",
   "version": "3.8.3"
  }
 },
 "nbformat": 4,
 "nbformat_minor": 4
}
