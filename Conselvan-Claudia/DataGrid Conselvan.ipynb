{
 "cells": [
  {
   "cell_type": "code",
   "execution_count": 1,
   "metadata": {},
   "outputs": [],
   "source": [
    "import pandas as pd"
   ]
  },
  {
   "cell_type": "code",
   "execution_count": 4,
   "metadata": {},
   "outputs": [
    {
     "data": {
      "text/html": [
       "<div>\n",
       "<style scoped>\n",
       "    .dataframe tbody tr th:only-of-type {\n",
       "        vertical-align: middle;\n",
       "    }\n",
       "\n",
       "    .dataframe tbody tr th {\n",
       "        vertical-align: top;\n",
       "    }\n",
       "\n",
       "    .dataframe thead th {\n",
       "        text-align: right;\n",
       "    }\n",
       "</style>\n",
       "<table border=\"1\" class=\"dataframe\">\n",
       "  <thead>\n",
       "    <tr style=\"text-align: right;\">\n",
       "      <th></th>\n",
       "      <th>Nome</th>\n",
       "      <th>Numero ingredienti</th>\n",
       "      <th>Minuti preparazione</th>\n",
       "      <th>Minuti cottura</th>\n",
       "      <th>Kcal</th>\n",
       "    </tr>\n",
       "  </thead>\n",
       "  <tbody>\n",
       "    <tr>\n",
       "      <th>0</th>\n",
       "      <td>spezzatino</td>\n",
       "      <td>14</td>\n",
       "      <td>20</td>\n",
       "      <td>140</td>\n",
       "      <td>130</td>\n",
       "    </tr>\n",
       "    <tr>\n",
       "      <th>1</th>\n",
       "      <td>margherita</td>\n",
       "      <td>12</td>\n",
       "      <td>30</td>\n",
       "      <td>15</td>\n",
       "      <td>270</td>\n",
       "    </tr>\n",
       "    <tr>\n",
       "      <th>2</th>\n",
       "      <td>gelato</td>\n",
       "      <td>5</td>\n",
       "      <td>15</td>\n",
       "      <td>0</td>\n",
       "      <td>218</td>\n",
       "    </tr>\n",
       "    <tr>\n",
       "      <th>3</th>\n",
       "      <td>cacciucco</td>\n",
       "      <td>27</td>\n",
       "      <td>60</td>\n",
       "      <td>120</td>\n",
       "      <td>100</td>\n",
       "    </tr>\n",
       "    <tr>\n",
       "      <th>4</th>\n",
       "      <td>scaloppine</td>\n",
       "      <td>6</td>\n",
       "      <td>10</td>\n",
       "      <td>10</td>\n",
       "      <td>116</td>\n",
       "    </tr>\n",
       "  </tbody>\n",
       "</table>\n",
       "</div>"
      ],
      "text/plain": [
       "         Nome  Numero ingredienti  Minuti preparazione  Minuti cottura  Kcal\n",
       "0  spezzatino                  14                   20             140   130\n",
       "1  margherita                  12                   30              15   270\n",
       "2      gelato                   5                   15               0   218\n",
       "3   cacciucco                  27                   60             120   100\n",
       "4  scaloppine                   6                   10              10   116"
      ]
     },
     "execution_count": 4,
     "metadata": {},
     "output_type": "execute_result"
    }
   ],
   "source": [
    "data = pd.DataFrame ({\n",
    "\"Nome\": [\"spezzatino\",\"margherita\",\"gelato\",\"cacciucco\",\"scaloppine\"],\n",
    "\"Numero ingredienti\": [14,12,5,27,6],\n",
    "\"Minuti preparazione\": [20,30,15,60,10],\n",
    "\"Minuti cottura\": [140,15,0,120,10],\n",
    "\"Kcal\": [130,270,218,100,116]\n",
    "})\n",
    "\n",
    "data"
   ]
  },
  {
   "cell_type": "code",
   "execution_count": 5,
   "metadata": {},
   "outputs": [
    {
     "data": {
      "text/plain": [
       "<bound method NDFrame.describe of          Nome  Numero ingredienti  Minuti preparazione  Minuti cottura  Kcal\n",
       "0  spezzatino                  14                   20             140   130\n",
       "1  margherita                  12                   30              15   270\n",
       "2      gelato                   5                   15               0   218\n",
       "3   cacciucco                  27                   60             120   100\n",
       "4  scaloppine                   6                   10              10   116>"
      ]
     },
     "execution_count": 5,
     "metadata": {},
     "output_type": "execute_result"
    }
   ],
   "source": [
    "data.describe"
   ]
  },
  {
   "cell_type": "code",
   "execution_count": null,
   "metadata": {},
   "outputs": [],
   "source": []
  }
 ],
 "metadata": {
  "kernelspec": {
   "display_name": "Python 3",
   "language": "python",
   "name": "python3"
  },
  "language_info": {
   "codemirror_mode": {
    "name": "ipython",
    "version": 3
   },
   "file_extension": ".py",
   "mimetype": "text/x-python",
   "name": "python",
   "nbconvert_exporter": "python",
   "pygments_lexer": "ipython3",
   "version": "3.7.6"
  }
 },
 "nbformat": 4,
 "nbformat_minor": 4
}
