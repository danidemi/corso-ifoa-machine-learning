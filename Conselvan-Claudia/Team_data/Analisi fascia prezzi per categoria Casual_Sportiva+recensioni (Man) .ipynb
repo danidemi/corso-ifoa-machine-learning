{
 "cells": [
  {
   "cell_type": "code",
   "execution_count": 1,
   "metadata": {},
   "outputs": [
    {
     "name": "stderr",
     "output_type": "stream",
     "text": [
      "b'Skipping line 251: expected 48 fields, saw 49\\nSkipping line 444: expected 48 fields, saw 50\\nSkipping line 847: expected 48 fields, saw 49\\nSkipping line 848: expected 48 fields, saw 49\\nSkipping line 1018: expected 48 fields, saw 49\\nSkipping line 1575: expected 48 fields, saw 51\\nSkipping line 2133: expected 48 fields, saw 49\\nSkipping line 2922: expected 48 fields, saw 51\\nSkipping line 3777: expected 48 fields, saw 51\\nSkipping line 4057: expected 48 fields, saw 49\\nSkipping line 4239: expected 48 fields, saw 49\\nSkipping line 4240: expected 48 fields, saw 49\\nSkipping line 4384: expected 48 fields, saw 49\\nSkipping line 4385: expected 48 fields, saw 49\\nSkipping line 5388: expected 48 fields, saw 49\\nSkipping line 5480: expected 48 fields, saw 49\\nSkipping line 5481: expected 48 fields, saw 49\\nSkipping line 5907: expected 48 fields, saw 50\\nSkipping line 5908: expected 48 fields, saw 50\\nSkipping line 6600: expected 48 fields, saw 49\\nSkipping line 6601: expected 48 fields, saw 49\\nSkipping line 6602: expected 48 fields, saw 49\\nSkipping line 6603: expected 48 fields, saw 49\\nSkipping line 7227: expected 48 fields, saw 49\\nSkipping line 7228: expected 48 fields, saw 49\\nSkipping line 7229: expected 48 fields, saw 49\\nSkipping line 7267: expected 48 fields, saw 51\\nSkipping line 9025: expected 48 fields, saw 49\\nSkipping line 9026: expected 48 fields, saw 49\\nSkipping line 9027: expected 48 fields, saw 49\\nSkipping line 9417: expected 48 fields, saw 50\\nSkipping line 10815: expected 48 fields, saw 49\\nSkipping line 11034: expected 48 fields, saw 50\\nSkipping line 11059: expected 48 fields, saw 49\\nSkipping line 11060: expected 48 fields, saw 49\\nSkipping line 11339: expected 48 fields, saw 50\\nSkipping line 11357: expected 48 fields, saw 49\\nSkipping line 11358: expected 48 fields, saw 49\\nSkipping line 11646: expected 48 fields, saw 49\\nSkipping line 11647: expected 48 fields, saw 49\\nSkipping line 12161: expected 48 fields, saw 50\\nSkipping line 12307: expected 48 fields, saw 49\\nSkipping line 12308: expected 48 fields, saw 49\\nSkipping line 12614: expected 48 fields, saw 49\\nSkipping line 12615: expected 48 fields, saw 49\\nSkipping line 12616: expected 48 fields, saw 49\\nSkipping line 12617: expected 48 fields, saw 49\\nSkipping line 12618: expected 48 fields, saw 49\\nSkipping line 12619: expected 48 fields, saw 49\\nSkipping line 12620: expected 48 fields, saw 49\\nSkipping line 12621: expected 48 fields, saw 49\\nSkipping line 12622: expected 48 fields, saw 49\\nSkipping line 12623: expected 48 fields, saw 49\\nSkipping line 12799: expected 48 fields, saw 49\\nSkipping line 14200: expected 48 fields, saw 49\\nSkipping line 14595: expected 48 fields, saw 49\\n'\n",
      "b'Skipping line 16747: expected 48 fields, saw 49\\nSkipping line 16748: expected 48 fields, saw 49\\nSkipping line 16749: expected 48 fields, saw 49\\nSkipping line 16750: expected 48 fields, saw 49\\nSkipping line 16751: expected 48 fields, saw 49\\nSkipping line 16752: expected 48 fields, saw 49\\nSkipping line 16753: expected 48 fields, saw 49\\nSkipping line 17318: expected 48 fields, saw 49\\nSkipping line 17319: expected 48 fields, saw 49\\nSkipping line 17766: expected 48 fields, saw 49\\nSkipping line 17767: expected 48 fields, saw 49\\nSkipping line 18000: expected 48 fields, saw 52\\nSkipping line 18001: expected 48 fields, saw 52\\nSkipping line 18308: expected 48 fields, saw 51\\nSkipping line 19223: expected 48 fields, saw 52\\nSkipping line 19224: expected 48 fields, saw 52\\n'\n",
      "C:\\Users\\giuli\\anaconda3\\lib\\site-packages\\IPython\\core\\interactiveshell.py:3063: DtypeWarning: Columns (20,21,25,29,30,36) have mixed types.Specify dtype option on import or set low_memory=False.\n",
      "  interactivity=interactivity, compiler=compiler, result=result)\n"
     ]
    }
   ],
   "source": [
    "import pandas as pd\n",
    "import numpy as np\n",
    "import json\n",
    "import math\n",
    "import sys\n",
    "\n",
    "df=pd.read_csv(\"C:\\\\Users\\\\giuli\\\\project_w_EXP\\\\man-shoes\\\\Datafiniti_Mens_Shoe_Prices.csv\", error_bad_lines=False)\n",
    "df=df[df['prices.currency']=='USD']\n",
    "\n",
    "df=df[['brand','categories','prices.amountMin', 'prices.amountMax', 'reviews']]\n",
    "\n",
    "def y(x):\n",
    "    cat_def=['Casual', 'Athletic & Outdoor Shoes','Sporting Goods','Prada Sport',\"Outdoor Sports\", \"Sports & Outdoors\", 'Tennis', 'Running Shoes', 'Sneakers & Athletic Shoes', 'Team Sports', \"Men's Casual Shoes\", 'Basketball', 'Athletic', 'Sports & Outdoors', 'Contemporary & Designer', \"Men's Outerwear\", 'Outdoor', 'Walking Shoes', 'Fashion Sneakers', 'Tennis', 'Sneakers & Athletic Shoes', 'Nike Sneakers', \"Men's Sneakers & Athletic Shoes\", 'The Sneaker Project', 'Sneakers & Athletic', 'Sneakers']\n",
    "    p=''\n",
    "    for i in cat_def:\n",
    "        if i in x:\n",
    "            p=p+i+', '\n",
    "    return p[:-2]\n",
    "\n",
    "def g(x):\n",
    "    for i in x:\n",
    "        return y(x)\n",
    "    \n",
    "df['Categorie_Casual_Sport']= df['categories'].apply(g)"
   ]
  },
  {
   "cell_type": "code",
   "execution_count": 2,
   "metadata": {},
   "outputs": [
    {
     "data": {
      "text/html": [
       "<div>\n",
       "<style scoped>\n",
       "    .dataframe tbody tr th:only-of-type {\n",
       "        vertical-align: middle;\n",
       "    }\n",
       "\n",
       "    .dataframe tbody tr th {\n",
       "        vertical-align: top;\n",
       "    }\n",
       "\n",
       "    .dataframe thead th {\n",
       "        text-align: right;\n",
       "    }\n",
       "</style>\n",
       "<table border=\"1\" class=\"dataframe\">\n",
       "  <thead>\n",
       "    <tr style=\"text-align: right;\">\n",
       "      <th></th>\n",
       "      <th>brand</th>\n",
       "      <th>categories</th>\n",
       "      <th>prices.amountMin</th>\n",
       "      <th>prices.amountMax</th>\n",
       "      <th>reviews</th>\n",
       "      <th>Categorie_Casual_Sport</th>\n",
       "    </tr>\n",
       "  </thead>\n",
       "  <tbody>\n",
       "    <tr>\n",
       "      <th>10</th>\n",
       "      <td>NATIVE</td>\n",
       "      <td>Men's Casual Shoes,Shoes,Men's Shoes,Clothing</td>\n",
       "      <td>45.00</td>\n",
       "      <td>45.00</td>\n",
       "      <td>NaN</td>\n",
       "      <td>Casual, Men's Casual Shoes</td>\n",
       "    </tr>\n",
       "    <tr>\n",
       "      <th>11</th>\n",
       "      <td>NATIVE</td>\n",
       "      <td>Men's Casual Shoes,Shoes,Men's Shoes,Clothing</td>\n",
       "      <td>7.99</td>\n",
       "      <td>7.99</td>\n",
       "      <td>NaN</td>\n",
       "      <td>Casual, Men's Casual Shoes</td>\n",
       "    </tr>\n",
       "    <tr>\n",
       "      <th>12</th>\n",
       "      <td>NATIVE</td>\n",
       "      <td>Men's Casual Shoes,Shoes,Men's Shoes,Clothing</td>\n",
       "      <td>9.99</td>\n",
       "      <td>9.99</td>\n",
       "      <td>NaN</td>\n",
       "      <td>Casual, Men's Casual Shoes</td>\n",
       "    </tr>\n",
       "    <tr>\n",
       "      <th>32</th>\n",
       "      <td>AMERICAN FIGHTER</td>\n",
       "      <td>Clothing, Shoes &amp; Accessories,Men's Clothing,S...</td>\n",
       "      <td>48.00</td>\n",
       "      <td>48.00</td>\n",
       "      <td>NaN</td>\n",
       "      <td>Sporting Goods</td>\n",
       "    </tr>\n",
       "    <tr>\n",
       "      <th>33</th>\n",
       "      <td>TOMS</td>\n",
       "      <td>Men's Casual Shoes,Shoes,Men's Shoes,Clothing</td>\n",
       "      <td>45.90</td>\n",
       "      <td>45.90</td>\n",
       "      <td>NaN</td>\n",
       "      <td>Casual, Men's Casual Shoes</td>\n",
       "    </tr>\n",
       "    <tr>\n",
       "      <th>...</th>\n",
       "      <td>...</td>\n",
       "      <td>...</td>\n",
       "      <td>...</td>\n",
       "      <td>...</td>\n",
       "      <td>...</td>\n",
       "      <td>...</td>\n",
       "    </tr>\n",
       "    <tr>\n",
       "      <th>19298</th>\n",
       "      <td>Crocs</td>\n",
       "      <td>Clothing,Shoes,Men's Shoes,Men's Casual Shoes</td>\n",
       "      <td>44.99</td>\n",
       "      <td>44.99</td>\n",
       "      <td>[{\"dateAdded\":\"2017-01-27T01:33:09Z\",\"dateSeen...</td>\n",
       "      <td>Casual, Men's Casual Shoes</td>\n",
       "    </tr>\n",
       "    <tr>\n",
       "      <th>19304</th>\n",
       "      <td>adidas</td>\n",
       "      <td>Clothing, Shoes &amp; Jewelry,Men,Shoes,Athletic,R...</td>\n",
       "      <td>18.94</td>\n",
       "      <td>37.5</td>\n",
       "      <td>NaN</td>\n",
       "      <td>Athletic</td>\n",
       "    </tr>\n",
       "    <tr>\n",
       "      <th>19305</th>\n",
       "      <td>adidas</td>\n",
       "      <td>Clothing, Shoes &amp; Jewelry,Men,Shoes,Athletic,R...</td>\n",
       "      <td>18.3</td>\n",
       "      <td>37.5</td>\n",
       "      <td>NaN</td>\n",
       "      <td>Athletic</td>\n",
       "    </tr>\n",
       "    <tr>\n",
       "      <th>19306</th>\n",
       "      <td>Nike</td>\n",
       "      <td>Clothing, Shoes &amp; Accessories,Athletic,Men's S...</td>\n",
       "      <td>65.99</td>\n",
       "      <td>65.99</td>\n",
       "      <td>NaN</td>\n",
       "      <td>Athletic</td>\n",
       "    </tr>\n",
       "    <tr>\n",
       "      <th>19307</th>\n",
       "      <td>Nike</td>\n",
       "      <td>Clothing, Shoes &amp; Accessories,Athletic,Men's S...</td>\n",
       "      <td>58.99</td>\n",
       "      <td>58.99</td>\n",
       "      <td>NaN</td>\n",
       "      <td>Athletic</td>\n",
       "    </tr>\n",
       "  </tbody>\n",
       "</table>\n",
       "<p>5349 rows × 6 columns</p>\n",
       "</div>"
      ],
      "text/plain": [
       "                  brand                                         categories  \\\n",
       "10               NATIVE      Men's Casual Shoes,Shoes,Men's Shoes,Clothing   \n",
       "11               NATIVE      Men's Casual Shoes,Shoes,Men's Shoes,Clothing   \n",
       "12               NATIVE      Men's Casual Shoes,Shoes,Men's Shoes,Clothing   \n",
       "32     AMERICAN FIGHTER  Clothing, Shoes & Accessories,Men's Clothing,S...   \n",
       "33                 TOMS      Men's Casual Shoes,Shoes,Men's Shoes,Clothing   \n",
       "...                 ...                                                ...   \n",
       "19298             Crocs      Clothing,Shoes,Men's Shoes,Men's Casual Shoes   \n",
       "19304            adidas  Clothing, Shoes & Jewelry,Men,Shoes,Athletic,R...   \n",
       "19305            adidas  Clothing, Shoes & Jewelry,Men,Shoes,Athletic,R...   \n",
       "19306              Nike  Clothing, Shoes & Accessories,Athletic,Men's S...   \n",
       "19307              Nike  Clothing, Shoes & Accessories,Athletic,Men's S...   \n",
       "\n",
       "      prices.amountMin prices.amountMax  \\\n",
       "10               45.00            45.00   \n",
       "11                7.99             7.99   \n",
       "12                9.99             9.99   \n",
       "32               48.00            48.00   \n",
       "33               45.90            45.90   \n",
       "...                ...              ...   \n",
       "19298            44.99            44.99   \n",
       "19304            18.94             37.5   \n",
       "19305             18.3             37.5   \n",
       "19306            65.99            65.99   \n",
       "19307            58.99            58.99   \n",
       "\n",
       "                                                 reviews  \\\n",
       "10                                                   NaN   \n",
       "11                                                   NaN   \n",
       "12                                                   NaN   \n",
       "32                                                   NaN   \n",
       "33                                                   NaN   \n",
       "...                                                  ...   \n",
       "19298  [{\"dateAdded\":\"2017-01-27T01:33:09Z\",\"dateSeen...   \n",
       "19304                                                NaN   \n",
       "19305                                                NaN   \n",
       "19306                                                NaN   \n",
       "19307                                                NaN   \n",
       "\n",
       "           Categorie_Casual_Sport  \n",
       "10     Casual, Men's Casual Shoes  \n",
       "11     Casual, Men's Casual Shoes  \n",
       "12     Casual, Men's Casual Shoes  \n",
       "32                 Sporting Goods  \n",
       "33     Casual, Men's Casual Shoes  \n",
       "...                           ...  \n",
       "19298  Casual, Men's Casual Shoes  \n",
       "19304                    Athletic  \n",
       "19305                    Athletic  \n",
       "19306                    Athletic  \n",
       "19307                    Athletic  \n",
       "\n",
       "[5349 rows x 6 columns]"
      ]
     },
     "execution_count": 2,
     "metadata": {},
     "output_type": "execute_result"
    }
   ],
   "source": [
    "df=df[df['Categorie_Casual_Sport']!='']\n",
    "df"
   ]
  },
  {
   "cell_type": "markdown",
   "metadata": {},
   "source": [
    "__selezione preliminare di righe e colonne di interesse e riduzione sono alla macrocategoria Casual/Sportivo precedendemente preso in considerazione nell'analisi sulle recensioni. Nelle prossime celle si procede ad estrarre il rating__"
   ]
  },
  {
   "cell_type": "code",
   "execution_count": 3,
   "metadata": {},
   "outputs": [],
   "source": [
    "def extract_averge_review(reviews):\n",
    "    try:\n",
    "        if (type(reviews) == float):\n",
    "            return None\n",
    "        \n",
    "        if (type(reviews) != str):\n",
    "            #print( f\"WARN not a string but a {type(reviews)} {reviews}\" )\n",
    "            return None\n",
    "        \n",
    "        reviews = reviews.replace(\"\\\\\\\\\", \"\\\\\")\n",
    "        kvs = json.loads(reviews)\n",
    "        ratings = []\n",
    "        for kv in kvs:\n",
    "            if(\"rating\" in kv):\n",
    "                #print( f\"\\n\\n{kv}\" )\n",
    "                ratings.append( float( kv[\"rating\"] ) )\n",
    "                \n",
    "        #print( f\"\\n\\n{ratings}\" )\n",
    "        \n",
    "        # questo blocco è per fare qualcosa di utile con i voti di un prodotto.\n",
    "        # ad esempio in questo caso viene calcolata la media delle recensioni\n",
    "        if len(ratings) == 0:\n",
    "            return None\n",
    "        else:\n",
    "            total = 0.0\n",
    "            for r in ratings:\n",
    "                total = total + r\n",
    "            avg = total / len(ratings)\n",
    "            return avg        \n",
    "                \n",
    "    except:\n",
    "        err_type, err_value, err_traceback = sys.exc_info()\n",
    "        #print( f\"WARN '{err_type}' '{err_value}' parsing {reviews}\" )\n",
    "        return None \n",
    "    \n",
    "df[\"rating\"] = df[\"reviews\"].apply( extract_averge_review )\n"
   ]
  },
  {
   "cell_type": "code",
   "execution_count": 4,
   "metadata": {},
   "outputs": [
    {
     "data": {
      "text/plain": [
       "array([\"Casual, Men's Casual Shoes\", 'Sporting Goods', \"Men's Outerwear\",\n",
       "       'Sporting Goods, Team Sports, Basketball',\n",
       "       'Sporting Goods, Team Sports', 'Athletic',\n",
       "       'Running Shoes, Athletic', 'Athletic, Nike Sneakers, Sneakers',\n",
       "       'Team Sports, Basketball, Athletic', 'Casual',\n",
       "       'Contemporary & Designer', 'Sneakers',\n",
       "       'Running Shoes, Team Sports, Athletic', 'Casual, Athletic',\n",
       "       'Sporting Goods, Team Sports, Athletic',\n",
       "       \"Sneakers & Athletic Shoes, Athletic, Sneakers & Athletic Shoes, Men's Sneakers & Athletic Shoes, Sneakers & Athletic, Sneakers\",\n",
       "       'Sporting Goods, Athletic', 'Fashion Sneakers, Sneakers',\n",
       "       'Athletic, Sneakers & Athletic, Sneakers',\n",
       "       'Sports & Outdoors, Athletic, Sports & Outdoors, Outdoor',\n",
       "       'Sports & Outdoors, Sports & Outdoors, Outdoor', 'Team Sports',\n",
       "       'Tennis, Athletic, Tennis', 'Team Sports, Athletic',\n",
       "       'Running Shoes, Athletic, Outdoor', 'Outdoor', 'Basketball',\n",
       "       'Walking Shoes', 'Athletic & Outdoor Shoes, Athletic, Outdoor',\n",
       "       'Sneakers & Athletic Shoes, Athletic, Sneakers & Athletic Shoes, Sneakers & Athletic, Sneakers',\n",
       "       'Sporting Goods, Team Sports, Basketball, Athletic',\n",
       "       'Sporting Goods, Outdoor Sports, Athletic, Outdoor',\n",
       "       \"Casual, Sports & Outdoors, Men's Casual Shoes, Sports & Outdoors, Outdoor\",\n",
       "       'Running Shoes, Team Sports, Basketball, Athletic', 'Prada Sport',\n",
       "       \"Casual, Men's Casual Shoes, Outdoor\", 'Running Shoes',\n",
       "       \"Casual, Tennis, Men's Casual Shoes, Athletic, Tennis\",\n",
       "       'Sporting Goods, Tennis, Athletic, Tennis',\n",
       "       'Athletic, The Sneaker Project, Sneakers & Athletic, Sneakers',\n",
       "       'Outdoor Sports, Sports & Outdoors, Sports & Outdoors, Outdoor',\n",
       "       'Sporting Goods, Outdoor Sports, Sports & Outdoors, Sports & Outdoors, Outdoor',\n",
       "       'Basketball, Athletic'], dtype=object)"
      ]
     },
     "execution_count": 4,
     "metadata": {},
     "output_type": "execute_result"
    }
   ],
   "source": [
    "df[\"Categorie_Casual_Sport\"].unique()"
   ]
  },
  {
   "cell_type": "markdown",
   "metadata": {},
   "source": [
    "__Ecco la funzione più razionale trovata per semplificare le categorie. Ricordarsi che la funzione procede in ordine, quindi è importante impostarla mettendo prima le categorie di marrgiore interesse, che altrimenti rischiano di essere accorpate alle altre. Ad accezione del modello \"Sneakers\" che per noi è fondamentale, le altre categorie posssono essere organizzate in modo diverso e più funzionale di queste, provate a fare di meglio nel db donna (per esempio: non so che siano le scarpe \"contemporary.... forse meglio accorparle al casual?)__"
   ]
  },
  {
   "cell_type": "code",
   "execution_count": 5,
   "metadata": {},
   "outputs": [],
   "source": [
    "def v(x):\n",
    "    if \"Sneakers\" in x:\n",
    "        return \"Sneakers\"\n",
    "    elif \"Casual\" in x:\n",
    "        return \"Casual\"\n",
    "    elif \"Outdoor\" in x or \"Outdoors\" in x:\n",
    "        return \"Outdoor\"\n",
    "    elif \"Athletic\" in x:\n",
    "        return \"Athletic\"\n",
    "    elif \"Contemporary\":\n",
    "        return \"Contemporary\"\n",
    "        \n",
    "    \n",
    "    \n",
    "    \n",
    "df['Categorie_Casual_Sport']=df['Categorie_Casual_Sport'].apply(v)"
   ]
  },
  {
   "cell_type": "code",
   "execution_count": 6,
   "metadata": {},
   "outputs": [
    {
     "data": {
      "text/plain": [
       "array(['Casual', 'Contemporary', 'Athletic', 'Sneakers', 'Outdoor'],\n",
       "      dtype=object)"
      ]
     },
     "execution_count": 6,
     "metadata": {},
     "output_type": "execute_result"
    }
   ],
   "source": [
    "df['Categorie_Casual_Sport'].unique()"
   ]
  },
  {
   "cell_type": "code",
   "execution_count": 7,
   "metadata": {},
   "outputs": [],
   "source": [
    "df=df[df['Categorie_Casual_Sport']!=None]\n"
   ]
  },
  {
   "cell_type": "code",
   "execution_count": 8,
   "metadata": {},
   "outputs": [],
   "source": [
    "df[\"prices.amountMax\"] = pd.to_numeric(df[\"prices.amountMax\"])\n",
    "df[\"prices.amountMin\"] = pd.to_numeric(df[\"prices.amountMin\"])\n",
    "df['medium.price']=(df['prices.amountMin']+df['prices.amountMax'])/2\n",
    "\n",
    "df=df[['medium.price', \"Categorie_Casual_Sport\", \"rating\", \"reviews\" ]]\n",
    "\n"
   ]
  },
  {
   "cell_type": "markdown",
   "metadata": {},
   "source": [
    "__per minimizzare il rischio di comprendee articoli che non sono scarpe seleziono il db impostando come valore minimo 15 dollari. siete d'accordo? altre porposte? per migliorare il grafico decido anche di eliminare outlier assoluti di pochissimi valori sopra i 700 dollari, anche perchè non riguardano la nostra categoria (sneakers) o il nostro mercato di interesse__"
   ]
  },
  {
   "cell_type": "code",
   "execution_count": 20,
   "metadata": {},
   "outputs": [],
   "source": [
    "df=df[df['medium.price']>15]\n",
    "df=df[df['medium.price']<700]"
   ]
  },
  {
   "cell_type": "code",
   "execution_count": 41,
   "metadata": {
    "scrolled": true
   },
   "outputs": [
    {
     "data": {
      "image/png": "[encoded data removed]",
      "text/plain": [
       "<Figure size 432x288 with 1 Axes>"
      ]
     },
     "metadata": {
      "needs_background": "light"
     },
     "output_type": "display_data"
    }
   ],
   "source": [
    "import matplotlib.pyplot as plot\n",
    "\n",
    "df.plot(x=\"medium.price\", y=\"Categorie_Casual_Sport\", kind=\"scatter\", alpha=0.1, s=20)\n",
    "plot.title('Distribuzione offerta di mercato per categoria')\n",
    "plot.show()"
   ]
  },
  {
   "cell_type": "markdown",
   "metadata": {},
   "source": [
    "__proposta di interpretazione dati: il mercato delle sneakers offre un'interessante opportunità nella fascia media alta, che non è saturo come quello di fascia bassa, notiamo in particolare come potremmo agilmente \"inserirci\" con un prezzo sui 150 euro/dollari in quanto andiamo ad intercettare una vera e propria carenza di offerta.__"
   ]
  },
  {
   "cell_type": "code",
   "execution_count": null,
   "metadata": {},
   "outputs": [],
   "source": [
    "df.groupby('Categorie_Casual_Sport').min().sort_values(by=['medium.price'], ascending=False)"
   ]
  },
  {
   "cell_type": "code",
   "execution_count": 40,
   "metadata": {},
   "outputs": [
    {
     "data": {
      "image/png": "[encoded data removed]",
      "text/plain": [
       "<Figure size 432x288 with 1 Axes>"
      ]
     },
     "metadata": {
      "needs_background": "light"
     },
     "output_type": "display_data"
    }
   ],
   "source": [
    "\n",
    "\n",
    "df.plot(x=\"rating\", y=\"Categorie_Casual_Sport\", kind=\"scatter\", alpha=0.7, s=40)\n",
    "plot.title('Distribuzione offerta di mercato per categoria')\n",
    "plot.show()"
   ]
  },
  {
   "cell_type": "markdown",
   "metadata": {},
   "source": [
    "__questo grafica mostra la distribuzione del rating in relazione alla categoria. La nostra categoria è posizionata molto bene, con i voti distribuiti tra il 4 e il 5__\n",
    "\n"
   ]
  },
  {
   "cell_type": "code",
   "execution_count": null,
   "metadata": {},
   "outputs": [],
   "source": []
  }
 ],
 "metadata": {
  "kernelspec": {
   "display_name": "Python 3",
   "language": "python",
   "name": "python3"
  },
  "language_info": {
   "codemirror_mode": {
    "name": "ipython",
    "version": 3
   },
   "file_extension": ".py",
   "mimetype": "text/x-python",
   "name": "python",
   "nbconvert_exporter": "python",
   "pygments_lexer": "ipython3",
   "version": "3.7.6"
  }
 },
 "nbformat": 4,
 "nbformat_minor": 4
}
