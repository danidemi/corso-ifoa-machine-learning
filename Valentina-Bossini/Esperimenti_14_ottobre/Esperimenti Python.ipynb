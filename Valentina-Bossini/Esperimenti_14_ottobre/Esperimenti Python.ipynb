{
 "cells": [
  {
   "cell_type": "markdown",
   "metadata": {},
   "source": [
    "Datagrid di esempio"
   ]
  },
  {
   "cell_type": "code",
   "execution_count": 1,
   "metadata": {},
   "outputs": [
    {
     "ename": "ModuleNotFoundError",
     "evalue": "No module named 'panda'",
     "output_type": "error",
     "traceback": [
      "\u001b[1;31m---------------------------------------------------------------------------\u001b[0m",
      "\u001b[1;31mModuleNotFoundError\u001b[0m                       Traceback (most recent call last)",
      "\u001b[1;32m<ipython-input-1-f542dbfa5144>\u001b[0m in \u001b[0;36m<module>\u001b[1;34m\u001b[0m\n\u001b[1;32m----> 1\u001b[1;33m \u001b[1;32mimport\u001b[0m \u001b[0mpanda\u001b[0m \u001b[1;32mas\u001b[0m \u001b[0mpd\u001b[0m\u001b[1;33m\u001b[0m\u001b[1;33m\u001b[0m\u001b[0m\n\u001b[0m",
      "\u001b[1;31mModuleNotFoundError\u001b[0m: No module named 'panda'"
     ]
    }
   ],
   "source": [
    "import panda as pd"
   ]
  },
  {
   "cell_type": "code",
   "execution_count": 2,
   "metadata": {},
   "outputs": [],
   "source": [
    "import pandas as pd\n"
   ]
  },
  {
   "cell_type": "code",
   "execution_count": 8,
   "metadata": {},
   "outputs": [
    {
     "data": {
      "text/html": [
       "<div>\n",
       "<style scoped>\n",
       "    .dataframe tbody tr th:only-of-type {\n",
       "        vertical-align: middle;\n",
       "    }\n",
       "\n",
       "    .dataframe tbody tr th {\n",
       "        vertical-align: top;\n",
       "    }\n",
       "\n",
       "    .dataframe thead th {\n",
       "        text-align: right;\n",
       "    }\n",
       "</style>\n",
       "<table border=\"1\" class=\"dataframe\">\n",
       "  <thead>\n",
       "    <tr style=\"text-align: right;\">\n",
       "      <th></th>\n",
       "      <th>Name</th>\n",
       "      <th>Height</th>\n",
       "      <th>Catena montuosa</th>\n",
       "      <th>Difficile</th>\n",
       "    </tr>\n",
       "  </thead>\n",
       "  <tbody>\n",
       "    <tr>\n",
       "      <th>0</th>\n",
       "      <td>Monte Elbrus</td>\n",
       "      <td>5.642</td>\n",
       "      <td>Caucaso</td>\n",
       "      <td>True</td>\n",
       "    </tr>\n",
       "    <tr>\n",
       "      <th>1</th>\n",
       "      <td>Dikh-Tau</td>\n",
       "      <td>5.205</td>\n",
       "      <td>Caucaso</td>\n",
       "      <td>True</td>\n",
       "    </tr>\n",
       "    <tr>\n",
       "      <th>2</th>\n",
       "      <td>Monte Shkhara</td>\n",
       "      <td>5.193</td>\n",
       "      <td>Caucaso</td>\n",
       "      <td>True</td>\n",
       "    </tr>\n",
       "    <tr>\n",
       "      <th>3</th>\n",
       "      <td>Monte Bianco</td>\n",
       "      <td>4.809</td>\n",
       "      <td>Alpi</td>\n",
       "      <td>True</td>\n",
       "    </tr>\n",
       "    <tr>\n",
       "      <th>4</th>\n",
       "      <td>Monte Rosa</td>\n",
       "      <td>4.634</td>\n",
       "      <td>Alpi</td>\n",
       "      <td>True</td>\n",
       "    </tr>\n",
       "  </tbody>\n",
       "</table>\n",
       "</div>"
      ],
      "text/plain": [
       "            Name  Height Catena montuosa  Difficile\n",
       "0   Monte Elbrus   5.642         Caucaso       True\n",
       "1       Dikh-Tau   5.205         Caucaso       True\n",
       "2  Monte Shkhara   5.193         Caucaso       True\n",
       "3   Monte Bianco   4.809            Alpi       True\n",
       "4     Monte Rosa   4.634            Alpi       True"
      ]
     },
     "execution_count": 8,
     "metadata": {},
     "output_type": "execute_result"
    }
   ],
   "source": [
    "montagne = pd.DataFrame({\n",
    "    \"Name\" : [\"Monte Elbrus\", \"Dikh-Tau\", \"Monte Shkhara\", \"Monte Bianco\", \"Monte Rosa\"],\n",
    "    \"Height\" : [5.642, 5.205, 5.193, 4.809, 4.634],\n",
    "    \"Catena montuosa\" : [\"Caucaso\", \"Caucaso\", \"Caucaso\", \"Alpi\", \"Alpi\"],\n",
    "    \"Difficile\" : [True, True, True, True, True]\n",
    "})\n",
    "montagne"
   ]
  },
  {
   "cell_type": "code",
   "execution_count": 13,
   "metadata": {
    "scrolled": true
   },
   "outputs": [
    {
     "data": {
      "text/plain": [
       "0    5.642\n",
       "1    5.205\n",
       "2    5.193\n",
       "3    4.809\n",
       "4    4.634\n",
       "Name: Height, dtype: float64"
      ]
     },
     "execution_count": 13,
     "metadata": {},
     "output_type": "execute_result"
    }
   ],
   "source": [
    "Height = montagne[\"Height\"]\n",
    "Height"
   ]
  },
  {
   "cell_type": "code",
   "execution_count": 14,
   "metadata": {},
   "outputs": [
    {
     "name": "stdout",
     "output_type": "stream",
     "text": [
      "4.634\n"
     ]
    }
   ],
   "source": [
    "print(montagne[\"Height\"].min())"
   ]
  },
  {
   "cell_type": "code",
   "execution_count": 15,
   "metadata": {},
   "outputs": [
    {
     "name": "stdout",
     "output_type": "stream",
     "text": [
      "5.642\n"
     ]
    }
   ],
   "source": [
    "print(montagne[\"Height\"].max())"
   ]
  },
  {
   "cell_type": "code",
   "execution_count": 18,
   "metadata": {},
   "outputs": [
    {
     "name": "stdout",
     "output_type": "stream",
     "text": [
      "count    5.000000\n",
      "mean     5.096600\n",
      "std      0.392179\n",
      "min      4.634000\n",
      "25%      4.809000\n",
      "50%      5.193000\n",
      "75%      5.205000\n",
      "max      5.642000\n",
      "Name: Height, dtype: float64\n"
     ]
    }
   ],
   "source": [
    "print(montagne[\"Height\"].describe())"
   ]
  },
  {
   "cell_type": "code",
   "execution_count": null,
   "metadata": {},
   "outputs": [],
   "source": []
  }
 ],
 "metadata": {
  "kernelspec": {
   "display_name": "Python 3",
   "language": "python",
   "name": "python3"
  },
  "language_info": {
   "codemirror_mode": {
    "name": "ipython",
    "version": 3
   },
   "file_extension": ".py",
   "mimetype": "text/x-python",
   "name": "python",
   "nbconvert_exporter": "python",
   "pygments_lexer": "ipython3",
   "version": "3.7.6"
  }
 },
 "nbformat": 4,
 "nbformat_minor": 4
}
