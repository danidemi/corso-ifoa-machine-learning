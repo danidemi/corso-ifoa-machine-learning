{
 "cells": [
  {
   "cell_type": "markdown",
   "metadata": {},
   "source": [
    "Tutorial Project Work\n",
    "=================\n"
   ]
  },
  {
   "cell_type": "code",
   "execution_count": 13,
   "metadata": {},
   "outputs": [
    {
     "name": "stdout",
     "output_type": "stream",
     "text": [
      "unzipping man shoes\n",
      "unzipping woman shoes\n",
      "dataset\\7210_1.csv\n",
      "dataset\\Datafiniti_Mens_Shoe_Prices.csv\n",
      "dataset\\Datafiniti_Womens_Shoes.csv\n",
      "dataset\\Datafiniti_Womens_Shoes_Jun19.csv\n",
      "dataset\\info.md\n",
      "dataset\\man-shoes.zip\n",
      "dataset\\woman-shoes.zip\n"
     ]
    }
   ],
   "source": [
    "import zipfile\n",
    "import os\n",
    "\n",
    "def print_file_list():\n",
    "    for root, dirs, files in os.walk(\"dataset\"):\n",
    "       for name in files:\n",
    "          print(os.path.join(root, name))\n",
    "            \n",
    "def unzip(dataset):\n",
    "    zip_path = os.path.join(\"dataset\", dataset)\n",
    "    with zipfile.ZipFile(zip_path, 'r') as zip_ref:\n",
    "        zip_ref.extractall(\"dataset\")\n",
    "    \n",
    "print('unzipping man shoes')    \n",
    "unzip('man-shoes.zip')\n",
    "\n",
    "print(\"unzipping woman shoes\")                \n",
    "unzip('woman-shoes.zip')\n",
    "\n",
    "print_file_list()\n"
   ]
  }
 ],
 "metadata": {
  "kernelspec": {
   "display_name": "Python 3",
   "language": "python",
   "name": "python3"
  },
  "language_info": {
   "codemirror_mode": {
    "name": "ipython",
    "version": 3
   },
   "file_extension": ".py",
   "mimetype": "text/x-python",
   "name": "python",
   "nbconvert_exporter": "python",
   "pygments_lexer": "ipython3",
   "version": "3.7.6"
  }
 },
 "nbformat": 4,
 "nbformat_minor": 4
}
