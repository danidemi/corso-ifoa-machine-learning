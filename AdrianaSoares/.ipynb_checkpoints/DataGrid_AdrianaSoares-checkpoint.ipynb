{
 "cells": [
  {
   "cell_type": "code",
   "execution_count": 1,
   "metadata": {},
   "outputs": [],
   "source": [
    "import pandas as pd"
   ]
  },
  {
   "cell_type": "code",
   "execution_count": 2,
   "metadata": {},
   "outputs": [
    {
     "data": {
      "text/html": [
       "<div>\n",
       "<style scoped>\n",
       "    .dataframe tbody tr th:only-of-type {\n",
       "        vertical-align: middle;\n",
       "    }\n",
       "\n",
       "    .dataframe tbody tr th {\n",
       "        vertical-align: top;\n",
       "    }\n",
       "\n",
       "    .dataframe thead th {\n",
       "        text-align: right;\n",
       "    }\n",
       "</style>\n",
       "<table border=\"1\" class=\"dataframe\">\n",
       "  <thead>\n",
       "    <tr style=\"text-align: right;\">\n",
       "      <th></th>\n",
       "      <th>Cità</th>\n",
       "      <th>Regione</th>\n",
       "      <th>Primavera C°</th>\n",
       "      <th>Estate C°</th>\n",
       "      <th>Outono C°</th>\n",
       "      <th>Inverno C°</th>\n",
       "    </tr>\n",
       "  </thead>\n",
       "  <tbody>\n",
       "    <tr>\n",
       "      <th>0</th>\n",
       "      <td>Rio de Janeiro</td>\n",
       "      <td>south east</td>\n",
       "      <td>28</td>\n",
       "      <td>37</td>\n",
       "      <td>25</td>\n",
       "      <td>18</td>\n",
       "    </tr>\n",
       "    <tr>\n",
       "      <th>1</th>\n",
       "      <td>Porto Alegre</td>\n",
       "      <td>south</td>\n",
       "      <td>25</td>\n",
       "      <td>32</td>\n",
       "      <td>22</td>\n",
       "      <td>9</td>\n",
       "    </tr>\n",
       "    <tr>\n",
       "      <th>2</th>\n",
       "      <td>Salvador</td>\n",
       "      <td>northeast</td>\n",
       "      <td>29</td>\n",
       "      <td>35</td>\n",
       "      <td>25</td>\n",
       "      <td>20</td>\n",
       "    </tr>\n",
       "    <tr>\n",
       "      <th>3</th>\n",
       "      <td>Boa Vista</td>\n",
       "      <td>north</td>\n",
       "      <td>25</td>\n",
       "      <td>32</td>\n",
       "      <td>21</td>\n",
       "      <td>18</td>\n",
       "    </tr>\n",
       "  </tbody>\n",
       "</table>\n",
       "</div>"
      ],
      "text/plain": [
       "             Cità     Regione  Primavera C°  Estate C°  Outono C°  Inverno C°\n",
       "0  Rio de Janeiro  south east            28         37         25          18\n",
       "1    Porto Alegre       south            25         32         22           9\n",
       "2        Salvador   northeast            29         35         25          20\n",
       "3       Boa Vista       north            25         32         21          18"
      ]
     },
     "execution_count": 2,
     "metadata": {},
     "output_type": "execute_result"
    }
   ],
   "source": [
    "data = pd.DataFrame ({\n",
    "\"Cità\": [\"Rio de Janeiro\",\"Porto Alegre\",\"Salvador\",\"Boa Vista\"],\n",
    "\"Regione\": [\"south east\", \"south\", \"northeast\", \"north\"],\n",
    "\"Primavera C°\": [28,25,29,25],\n",
    "\"Estate C°\": [37,32,35,32],\n",
    "\"Outono C°\": [25, 22, 25, 21],\n",
    "\"Inverno C°\": [18,9,20,18],\n",
    "})\n",
    "\n",
    "data"
   ]
  },
  {
   "cell_type": "code",
   "execution_count": 3,
   "metadata": {},
   "outputs": [
    {
     "data": {
      "text/plain": [
       "<bound method NDFrame.describe of              Cità     Regione  Primavera C°  Estate C°  Outono C°  Inverno C°\n",
       "0  Rio de Janeiro  south east            28         37         25          18\n",
       "1    Porto Alegre       south            25         32         22           9\n",
       "2        Salvador   northeast            29         35         25          20\n",
       "3       Boa Vista       north            25         32         21          18>"
      ]
     },
     "execution_count": 3,
     "metadata": {},
     "output_type": "execute_result"
    }
   ],
   "source": [
    "data.describe"
   ]
  },
  {
   "cell_type": "code",
   "execution_count": null,
   "metadata": {},
   "outputs": [],
   "source": []
  }
 ],
 "metadata": {
  "kernelspec": {
   "display_name": "Python 3",
   "language": "python",
   "name": "python3"
  },
  "language_info": {
   "codemirror_mode": {
    "name": "ipython",
    "version": 3
   },
   "file_extension": ".py",
   "mimetype": "text/x-python",
   "name": "python",
   "nbconvert_exporter": "python",
   "pygments_lexer": "ipython3",
   "version": "3.7.6"
  }
 },
 "nbformat": 4,
 "nbformat_minor": 4
}
