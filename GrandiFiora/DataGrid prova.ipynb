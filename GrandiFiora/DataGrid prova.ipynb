{
 "cells": [
  {
   "cell_type": "code",
   "execution_count": 1,
   "metadata": {},
   "outputs": [],
   "source": [
    "import pandas as pd"
   ]
  },
  {
   "cell_type": "code",
   "execution_count": 7,
   "metadata": {},
   "outputs": [
    {
     "data": {
      "text/html": [
       "<div>\n",
       "<style scoped>\n",
       "    .dataframe tbody tr th:only-of-type {\n",
       "        vertical-align: middle;\n",
       "    }\n",
       "\n",
       "    .dataframe tbody tr th {\n",
       "        vertical-align: top;\n",
       "    }\n",
       "\n",
       "    .dataframe thead th {\n",
       "        text-align: right;\n",
       "    }\n",
       "</style>\n",
       "<table border=\"1\" class=\"dataframe\">\n",
       "  <thead>\n",
       "    <tr style=\"text-align: right;\">\n",
       "      <th></th>\n",
       "      <th>CharName</th>\n",
       "      <th>Class</th>\n",
       "      <th>Role</th>\n",
       "      <th>Rank</th>\n",
       "      <th>Level</th>\n",
       "      <th>Shadowlands</th>\n",
       "      <th>BestMythicScore</th>\n",
       "    </tr>\n",
       "  </thead>\n",
       "  <tbody>\n",
       "    <tr>\n",
       "      <th>0</th>\n",
       "      <td>Artemis</td>\n",
       "      <td>Hunter</td>\n",
       "      <td>RangedDPS</td>\n",
       "      <td>Officer</td>\n",
       "      <td>50</td>\n",
       "      <td>True</td>\n",
       "      <td>1342</td>\n",
       "    </tr>\n",
       "    <tr>\n",
       "      <th>1</th>\n",
       "      <td>Summoning</td>\n",
       "      <td>Paladin</td>\n",
       "      <td>Tank</td>\n",
       "      <td>Officer</td>\n",
       "      <td>50</td>\n",
       "      <td>True</td>\n",
       "      <td>1592</td>\n",
       "    </tr>\n",
       "    <tr>\n",
       "      <th>2</th>\n",
       "      <td>Thoal</td>\n",
       "      <td>Druid</td>\n",
       "      <td>MeleeDPS</td>\n",
       "      <td>Raid leader</td>\n",
       "      <td>50</td>\n",
       "      <td>True</td>\n",
       "      <td>1851</td>\n",
       "    </tr>\n",
       "    <tr>\n",
       "      <th>3</th>\n",
       "      <td>Fleurexq</td>\n",
       "      <td>Hunter</td>\n",
       "      <td>RangedDPS</td>\n",
       "      <td>Guild master</td>\n",
       "      <td>50</td>\n",
       "      <td>True</td>\n",
       "      <td>1787</td>\n",
       "    </tr>\n",
       "    <tr>\n",
       "      <th>4</th>\n",
       "      <td>Paddington</td>\n",
       "      <td>Druid</td>\n",
       "      <td>Healer</td>\n",
       "      <td>Officer</td>\n",
       "      <td>50</td>\n",
       "      <td>False</td>\n",
       "      <td>1058</td>\n",
       "    </tr>\n",
       "    <tr>\n",
       "      <th>5</th>\n",
       "      <td>Misstaken</td>\n",
       "      <td>Mage</td>\n",
       "      <td>RangedDPS</td>\n",
       "      <td>Officer</td>\n",
       "      <td>50</td>\n",
       "      <td>True</td>\n",
       "      <td>2080</td>\n",
       "    </tr>\n",
       "    <tr>\n",
       "      <th>6</th>\n",
       "      <td>Crimsonwave</td>\n",
       "      <td>Death Knight</td>\n",
       "      <td>Tank</td>\n",
       "      <td>Raid leader</td>\n",
       "      <td>50</td>\n",
       "      <td>True</td>\n",
       "      <td>1043</td>\n",
       "    </tr>\n",
       "  </tbody>\n",
       "</table>\n",
       "</div>"
      ],
      "text/plain": [
       "      CharName         Class       Role          Rank  Level  Shadowlands  \\\n",
       "0      Artemis        Hunter  RangedDPS       Officer     50         True   \n",
       "1    Summoning       Paladin       Tank       Officer     50         True   \n",
       "2        Thoal         Druid   MeleeDPS   Raid leader     50         True   \n",
       "3     Fleurexq        Hunter  RangedDPS  Guild master     50         True   \n",
       "4   Paddington         Druid     Healer       Officer     50        False   \n",
       "5    Misstaken          Mage  RangedDPS       Officer     50         True   \n",
       "6  Crimsonwave  Death Knight       Tank   Raid leader     50         True   \n",
       "\n",
       "   BestMythicScore  \n",
       "0             1342  \n",
       "1             1592  \n",
       "2             1851  \n",
       "3             1787  \n",
       "4             1058  \n",
       "5             2080  \n",
       "6             1043  "
      ]
     },
     "execution_count": 7,
     "metadata": {},
     "output_type": "execute_result"
    }
   ],
   "source": [
    "data = pd.DataFrame({\n",
    "    \"CharName\":[\"Artemis\",\n",
    "               \"Summoning\",\n",
    "               \"Thoal\",\n",
    "               \"Fleurexq\",\n",
    "               \"Paddington\",\n",
    "               \"Misstaken\",\n",
    "               \"Crimsonwave\"],\n",
    "    \"Class\":[\"Hunter\",\n",
    "            \"Paladin\",\n",
    "            \"Druid\",\n",
    "            \"Hunter\",\n",
    "            \"Druid\",\n",
    "            \"Mage\",\n",
    "            \"Death Knight\"],\n",
    "    \"Role\":[\"RangedDPS\", \"Tank\", \"MeleeDPS\", \"RangedDPS\", \"Healer\", \"RangedDPS\", \"Tank\"],\n",
    "    \"Rank\":[\"Officer\",\n",
    "           \"Officer\",\n",
    "           \"Raid leader\",\n",
    "           \"Guild master\",\n",
    "           \"Officer\",\n",
    "           \"Officer\",\n",
    "           \"Raid leader\"],\n",
    "    \"Level\":[50, 50, 50, 50, 50, 50, 50],\n",
    "    \"Shadowlands\":[True, True, True, True, False, True, True] ,\n",
    "    \"BestMythicScore\": [1342, 1592, 1851, 1787, 1058, 2080, 1043]\n",
    "         \n",
    "})\n",
    "data"
   ]
  },
  {
   "cell_type": "code",
   "execution_count": 3,
   "metadata": {},
   "outputs": [
    {
     "data": {
      "text/plain": [
       "0     True\n",
       "1     True\n",
       "2     True\n",
       "3     True\n",
       "4    False\n",
       "5     True\n",
       "6     True\n",
       "Name: Shadowlands, dtype: bool"
      ]
     },
     "execution_count": 3,
     "metadata": {},
     "output_type": "execute_result"
    }
   ],
   "source": [
    "data [\"Shadowlands\"]\n"
   ]
  },
  {
   "cell_type": "code",
   "execution_count": 4,
   "metadata": {
    "scrolled": true
   },
   "outputs": [
    {
     "data": {
      "text/plain": [
       "0    50\n",
       "1    50\n",
       "2    50\n",
       "3    50\n",
       "4    50\n",
       "5    50\n",
       "6    50\n",
       "Name: Level, dtype: int64"
      ]
     },
     "execution_count": 4,
     "metadata": {},
     "output_type": "execute_result"
    }
   ],
   "source": [
    "data [\"Level\"]\n"
   ]
  },
  {
   "cell_type": "code",
   "execution_count": 8,
   "metadata": {},
   "outputs": [
    {
     "data": {
      "text/plain": [
       "<bound method NDFrame.describe of       CharName         Class       Role          Rank  Level  Shadowlands  \\\n",
       "0      Artemis        Hunter  RangedDPS       Officer     50         True   \n",
       "1    Summoning       Paladin       Tank       Officer     50         True   \n",
       "2        Thoal         Druid   MeleeDPS   Raid leader     50         True   \n",
       "3     Fleurexq        Hunter  RangedDPS  Guild master     50         True   \n",
       "4   Paddington         Druid     Healer       Officer     50        False   \n",
       "5    Misstaken          Mage  RangedDPS       Officer     50         True   \n",
       "6  Crimsonwave  Death Knight       Tank   Raid leader     50         True   \n",
       "\n",
       "   BestMythicScore  \n",
       "0             1342  \n",
       "1             1592  \n",
       "2             1851  \n",
       "3             1787  \n",
       "4             1058  \n",
       "5             2080  \n",
       "6             1043  >"
      ]
     },
     "execution_count": 8,
     "metadata": {},
     "output_type": "execute_result"
    }
   ],
   "source": [
    "data.describe"
   ]
  },
  {
   "cell_type": "code",
   "execution_count": 11,
   "metadata": {},
   "outputs": [],
   "source": [
    "x= data [\"BestMythicScore\"]"
   ]
  },
  {
   "cell_type": "code",
   "execution_count": 13,
   "metadata": {
    "scrolled": true
   },
   "outputs": [
    {
     "data": {
      "text/plain": [
       "count       7.000000\n",
       "mean     1536.142857\n",
       "std       402.174684\n",
       "min      1043.000000\n",
       "25%      1200.000000\n",
       "50%      1592.000000\n",
       "75%      1819.000000\n",
       "max      2080.000000\n",
       "Name: BestMythicScore, dtype: float64"
      ]
     },
     "execution_count": 13,
     "metadata": {},
     "output_type": "execute_result"
    }
   ],
   "source": [
    "x.describe()"
   ]
  },
  {
   "cell_type": "markdown",
   "metadata": {},
   "source": [
    "come mai qui esce NDFrame se uso describe senza parentesi?"
   ]
  },
  {
   "cell_type": "code",
   "execution_count": null,
   "metadata": {},
   "outputs": [],
   "source": []
  }
 ],
 "metadata": {
  "kernelspec": {
   "display_name": "Python 3",
   "language": "python",
   "name": "python3"
  },
  "language_info": {
   "codemirror_mode": {
    "name": "ipython",
    "version": 3
   },
   "file_extension": ".py",
   "mimetype": "text/x-python",
   "name": "python",
   "nbconvert_exporter": "python",
   "pygments_lexer": "ipython3",
   "version": "3.7.6"
  }
 },
 "nbformat": 4,
 "nbformat_minor": 4
}
