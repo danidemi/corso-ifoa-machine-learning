{
 "cells": [
  {
   "cell_type": "markdown",
   "metadata": {},
   "source": [
    "## Come misuriamo l'accuratezza di un algoritmo di classificazione?"
   ]
  },
  {
   "cell_type": "markdown",
   "metadata": {},
   "source": [
    "Considera un vettore target y_target = [0,1,1,1,1,0,1,0,1,0]\n",
    "\n",
    "Supponiamo che un certo algoritmo Z dia come risultato del metodo Z.predict(x) un vettore y_pred = [1,1,0,1,1,0,0,0,1,0]\n",
    "\n",
    "Scrivi una funzione che misuri la bontà della stima. La funzione my_accuracy_score() deve restituire un valore da 0 a 1.\n"
   ]
  },
  {
   "cell_type": "code",
   "execution_count": 3,
   "metadata": {},
   "outputs": [
    {
     "ename": "SyntaxError",
     "evalue": "unexpected EOF while parsing (<ipython-input-3-f953438ad463>, line 2)",
     "output_type": "error",
     "traceback": [
      "\u001b[1;36m  File \u001b[1;32m\"<ipython-input-3-f953438ad463>\"\u001b[1;36m, line \u001b[1;32m2\u001b[0m\n\u001b[1;33m    \u001b[0m\n\u001b[1;37m    ^\u001b[0m\n\u001b[1;31mSyntaxError\u001b[0m\u001b[1;31m:\u001b[0m unexpected EOF while parsing\n"
     ]
    }
   ],
   "source": [
    "def my_accuracy_score(y_target, y_pred):\n",
    "\n",
    "    for i, j in zip(y_target, y_pred)"
   ]
  },
  {
   "cell_type": "code",
   "execution_count": 14,
   "metadata": {},
   "outputs": [],
   "source": [
    "y_target = [0,1,1,1,1,0,1,0,1,0]\n",
    "\n",
    "y_pred = [1,1,0,1,1,0,0,0,1,0]\n",
    "\n",
    "def my_accuracy_score(y_target, y_pred):\n",
    "    count = 0\n",
    "    for y_t,y_p in zip(y_target, y_pred):\n",
    "        if y_t == y_p:\n",
    "            count += 1\n",
    "    return count/len(y_target)        \n",
    "    \n"
   ]
  },
  {
   "cell_type": "code",
   "execution_count": 15,
   "metadata": {},
   "outputs": [
    {
     "data": {
      "text/plain": [
       "0.7"
      ]
     },
     "execution_count": 15,
     "metadata": {},
     "output_type": "execute_result"
    }
   ],
   "source": [
    "my_accuracy_score(y_target, y_pred)"
   ]
  },
  {
   "cell_type": "code",
   "execution_count": null,
   "metadata": {},
   "outputs": [],
   "source": []
  }
 ],
 "metadata": {
  "kernelspec": {
   "display_name": "Python 3",
   "language": "python",
   "name": "python3"
  },
  "language_info": {
   "codemirror_mode": {
    "name": "ipython",
    "version": 3
   },
   "file_extension": ".py",
   "mimetype": "text/x-python",
   "name": "python",
   "nbconvert_exporter": "python",
   "pygments_lexer": "ipython3",
   "version": "3.8.3"
  }
 },
 "nbformat": 4,
 "nbformat_minor": 4
}
