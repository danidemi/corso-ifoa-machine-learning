{
 "cells": [
  {
   "cell_type": "code",
   "execution_count": 1,
   "metadata": {},
   "outputs": [],
   "source": [
    "import pandas as pd"
   ]
  },
  {
   "cell_type": "markdown",
   "metadata": {},
   "source": [
    "Create a Data Frame"
   ]
  },
  {
   "cell_type": "code",
   "execution_count": 6,
   "metadata": {},
   "outputs": [
    {
     "data": {
      "text/html": [
       "<div>\n",
       "<style scoped>\n",
       "    .dataframe tbody tr th:only-of-type {\n",
       "        vertical-align: middle;\n",
       "    }\n",
       "\n",
       "    .dataframe tbody tr th {\n",
       "        vertical-align: top;\n",
       "    }\n",
       "\n",
       "    .dataframe thead th {\n",
       "        text-align: right;\n",
       "    }\n",
       "</style>\n",
       "<table border=\"1\" class=\"dataframe\">\n",
       "  <thead>\n",
       "    <tr style=\"text-align: right;\">\n",
       "      <th></th>\n",
       "      <th>Name</th>\n",
       "      <th>Lastname</th>\n",
       "      <th>Age</th>\n",
       "      <th>Height</th>\n",
       "      <th>Value</th>\n",
       "      <th>Misure Unit</th>\n",
       "    </tr>\n",
       "  </thead>\n",
       "  <tbody>\n",
       "    <tr>\n",
       "      <th>0</th>\n",
       "      <td>Romelu</td>\n",
       "      <td>Lukaku</td>\n",
       "      <td>27</td>\n",
       "      <td>1.91</td>\n",
       "      <td>80</td>\n",
       "      <td>milions</td>\n",
       "    </tr>\n",
       "    <tr>\n",
       "      <th>1</th>\n",
       "      <td>Cristiano</td>\n",
       "      <td>Ronaldo</td>\n",
       "      <td>35</td>\n",
       "      <td>1.87</td>\n",
       "      <td>100</td>\n",
       "      <td>milions</td>\n",
       "    </tr>\n",
       "    <tr>\n",
       "      <th>2</th>\n",
       "      <td>Lionel</td>\n",
       "      <td>Messi</td>\n",
       "      <td>33</td>\n",
       "      <td>1.69</td>\n",
       "      <td>150</td>\n",
       "      <td>milions</td>\n",
       "    </tr>\n",
       "    <tr>\n",
       "      <th>3</th>\n",
       "      <td>Kilian</td>\n",
       "      <td>Mbappe</td>\n",
       "      <td>22</td>\n",
       "      <td>1.78</td>\n",
       "      <td>200</td>\n",
       "      <td>milions</td>\n",
       "    </tr>\n",
       "    <tr>\n",
       "      <th>4</th>\n",
       "      <td>Robert</td>\n",
       "      <td>Lewandowsky</td>\n",
       "      <td>32</td>\n",
       "      <td>1.84</td>\n",
       "      <td>120</td>\n",
       "      <td>milions</td>\n",
       "    </tr>\n",
       "  </tbody>\n",
       "</table>\n",
       "</div>"
      ],
      "text/plain": [
       "        Name     Lastname  Age  Height  Value Misure Unit\n",
       "0     Romelu       Lukaku   27    1.91     80     milions\n",
       "1  Cristiano      Ronaldo   35    1.87    100     milions\n",
       "2     Lionel        Messi   33    1.69    150     milions\n",
       "3     Kilian       Mbappe   22    1.78    200     milions\n",
       "4     Robert  Lewandowsky   32    1.84    120     milions"
      ]
     },
     "execution_count": 6,
     "metadata": {},
     "output_type": "execute_result"
    }
   ],
   "source": [
    "data = pd.DataFrame({\n",
    "  \"Name\": [\"Romelu\", \"Cristiano\", \"Lionel\", \"Kilian\", \"Robert\"],\n",
    "  \"Lastname\": [\"Lukaku\", \"Ronaldo\", \"Messi\", \"Mbappe\", \"Lewandowsky\"],\n",
    "  \"Age\": [27, 35, 33, 22, 32],\n",
    "  \"Height\": [1.91, 1.87, 1.69, 1.78, 1.84],\n",
    "  \"Value\": [80, 100, 150, 200, 120],\n",
    "  \"Misure Unit\": [\"milions\", \"milions\", \"milions\", \"milions\", \"milions\"]  \n",
    "})\n",
    "\n",
    "data"
   ]
  },
  {
   "cell_type": "code",
   "execution_count": 7,
   "metadata": {},
   "outputs": [
    {
     "data": {
      "text/plain": [
       "0     80\n",
       "1    100\n",
       "2    150\n",
       "3    200\n",
       "4    120\n",
       "Name: Value, dtype: int64"
      ]
     },
     "execution_count": 7,
     "metadata": {},
     "output_type": "execute_result"
    }
   ],
   "source": [
    "x = data [\"Value\"]\n",
    "\n",
    "x"
   ]
  },
  {
   "cell_type": "code",
   "execution_count": 8,
   "metadata": {},
   "outputs": [
    {
     "data": {
      "text/plain": [
       "<bound method NDFrame.describe of 0     80\n",
       "1    100\n",
       "2    150\n",
       "3    200\n",
       "4    120\n",
       "Name: Value, dtype: int64>"
      ]
     },
     "execution_count": 8,
     "metadata": {},
     "output_type": "execute_result"
    }
   ],
   "source": [
    "x.describe"
   ]
  },
  {
   "cell_type": "code",
   "execution_count": 10,
   "metadata": {},
   "outputs": [
    {
     "data": {
      "text/plain": [
       "80"
      ]
     },
     "execution_count": 10,
     "metadata": {},
     "output_type": "execute_result"
    }
   ],
   "source": [
    "min (x)"
   ]
  },
  {
   "cell_type": "code",
   "execution_count": 11,
   "metadata": {},
   "outputs": [
    {
     "data": {
      "text/plain": [
       "200"
      ]
     },
     "execution_count": 11,
     "metadata": {},
     "output_type": "execute_result"
    }
   ],
   "source": [
    "max (x)"
   ]
  },
  {
   "cell_type": "code",
   "execution_count": 12,
   "metadata": {},
   "outputs": [
    {
     "data": {
      "text/plain": [
       "650"
      ]
     },
     "execution_count": 12,
     "metadata": {},
     "output_type": "execute_result"
    }
   ],
   "source": [
    "sum(x)"
   ]
  },
  {
   "cell_type": "code",
   "execution_count": 16,
   "metadata": {},
   "outputs": [
    {
     "data": {
      "text/plain": [
       "0         Lukaku\n",
       "1        Ronaldo\n",
       "2          Messi\n",
       "3         Mbappe\n",
       "4    Lewandowsky\n",
       "Name: Lastname, dtype: object"
      ]
     },
     "execution_count": 16,
     "metadata": {},
     "output_type": "execute_result"
    }
   ],
   "source": [
    "y = data [\"Lastname\"]\n",
    "\n",
    "y"
   ]
  },
  {
   "cell_type": "code",
   "execution_count": 27,
   "metadata": {},
   "outputs": [
    {
     "data": {
      "text/plain": [
       "<bound method NDFrame.describe of 0         Lukaku\n",
       "1        Ronaldo\n",
       "2          Messi\n",
       "3         Mbappe\n",
       "4    Lewandowsky\n",
       "Name: Lastname, dtype: object>"
      ]
     },
     "execution_count": 27,
     "metadata": {},
     "output_type": "execute_result"
    }
   ],
   "source": [
    "y.describe\n"
   ]
  },
  {
   "cell_type": "code",
   "execution_count": null,
   "metadata": {},
   "outputs": [],
   "source": []
  }
 ],
 "metadata": {
  "kernelspec": {
   "display_name": "Python 3",
   "language": "python",
   "name": "python3"
  },
  "language_info": {
   "codemirror_mode": {
    "name": "ipython",
    "version": 3
   },
   "file_extension": ".py",
   "mimetype": "text/x-python",
   "name": "python",
   "nbconvert_exporter": "python",
   "pygments_lexer": "ipython3",
   "version": "3.8.3"
  }
 },
 "nbformat": 4,
 "nbformat_minor": 4
}
